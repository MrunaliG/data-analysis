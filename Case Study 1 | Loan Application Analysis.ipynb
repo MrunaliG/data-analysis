{
 "cells": [
  {
   "cell_type": "markdown",
   "id": "a5a6cad9",
   "metadata": {},
   "source": [
    "# Case Study 1: Loan Application Analysis"
   ]
  },
  {
   "cell_type": "markdown",
   "id": "87c31ab0",
   "metadata": {},
   "source": [
    "Our data set represents loans successfully awarded through the Lending Club platform. Our aim to understand factors that influence interest rate for these loans, and create a model that can predict the interest rate for eligible applicants."
   ]
  },
  {
   "cell_type": "markdown",
   "id": "894794ca",
   "metadata": {},
   "source": [
    "## Data Pre-processing and Exploratory Data Analysis"
   ]
  },
  {
   "cell_type": "code",
   "execution_count": 1,
   "id": "a974691b",
   "metadata": {},
   "outputs": [],
   "source": [
    "import numpy as np \n",
    "import pandas as pd \n",
    "import matplotlib.pyplot as plt \n",
    "import statsmodels.api as sm\n",
    "from sklearn.feature_selection import SelectKBest, mutual_info_regression\n",
    "from sklearn.neural_network import MLPRegressor\n",
    "from sklearn.datasets import make_regression\n",
    "from sklearn.model_selection import train_test_split\n",
    "\n",
    "%matplotlib inline"
   ]
  },
  {
   "cell_type": "code",
   "execution_count": 2,
   "id": "04efd7dd",
   "metadata": {},
   "outputs": [
    {
     "data": {
      "text/html": [
       "<div>\n",
       "<style scoped>\n",
       "    .dataframe tbody tr th:only-of-type {\n",
       "        vertical-align: middle;\n",
       "    }\n",
       "\n",
       "    .dataframe tbody tr th {\n",
       "        vertical-align: top;\n",
       "    }\n",
       "\n",
       "    .dataframe thead th {\n",
       "        text-align: right;\n",
       "    }\n",
       "</style>\n",
       "<table border=\"1\" class=\"dataframe\">\n",
       "  <thead>\n",
       "    <tr style=\"text-align: right;\">\n",
       "      <th></th>\n",
       "      <th>emp_title</th>\n",
       "      <th>emp_length</th>\n",
       "      <th>state</th>\n",
       "      <th>homeownership</th>\n",
       "      <th>annual_income</th>\n",
       "      <th>verified_income</th>\n",
       "      <th>debt_to_income</th>\n",
       "      <th>annual_income_joint</th>\n",
       "      <th>verification_income_joint</th>\n",
       "      <th>debt_to_income_joint</th>\n",
       "      <th>...</th>\n",
       "      <th>sub_grade</th>\n",
       "      <th>issue_month</th>\n",
       "      <th>loan_status</th>\n",
       "      <th>initial_listing_status</th>\n",
       "      <th>disbursement_method</th>\n",
       "      <th>balance</th>\n",
       "      <th>paid_total</th>\n",
       "      <th>paid_principal</th>\n",
       "      <th>paid_interest</th>\n",
       "      <th>paid_late_fees</th>\n",
       "    </tr>\n",
       "  </thead>\n",
       "  <tbody>\n",
       "    <tr>\n",
       "      <th>0</th>\n",
       "      <td>global config engineer</td>\n",
       "      <td>3.0</td>\n",
       "      <td>NJ</td>\n",
       "      <td>MORTGAGE</td>\n",
       "      <td>90000.0</td>\n",
       "      <td>Verified</td>\n",
       "      <td>18.01</td>\n",
       "      <td>NaN</td>\n",
       "      <td>NaN</td>\n",
       "      <td>NaN</td>\n",
       "      <td>...</td>\n",
       "      <td>C3</td>\n",
       "      <td>Mar-2018</td>\n",
       "      <td>Current</td>\n",
       "      <td>whole</td>\n",
       "      <td>Cash</td>\n",
       "      <td>27015.86</td>\n",
       "      <td>1999.33</td>\n",
       "      <td>984.14</td>\n",
       "      <td>1015.19</td>\n",
       "      <td>0.0</td>\n",
       "    </tr>\n",
       "    <tr>\n",
       "      <th>1</th>\n",
       "      <td>warehouse office clerk</td>\n",
       "      <td>10.0</td>\n",
       "      <td>HI</td>\n",
       "      <td>RENT</td>\n",
       "      <td>40000.0</td>\n",
       "      <td>Not Verified</td>\n",
       "      <td>5.04</td>\n",
       "      <td>NaN</td>\n",
       "      <td>NaN</td>\n",
       "      <td>NaN</td>\n",
       "      <td>...</td>\n",
       "      <td>C1</td>\n",
       "      <td>Feb-2018</td>\n",
       "      <td>Current</td>\n",
       "      <td>whole</td>\n",
       "      <td>Cash</td>\n",
       "      <td>4651.37</td>\n",
       "      <td>499.12</td>\n",
       "      <td>348.63</td>\n",
       "      <td>150.49</td>\n",
       "      <td>0.0</td>\n",
       "    </tr>\n",
       "    <tr>\n",
       "      <th>2</th>\n",
       "      <td>assembly</td>\n",
       "      <td>3.0</td>\n",
       "      <td>WI</td>\n",
       "      <td>RENT</td>\n",
       "      <td>40000.0</td>\n",
       "      <td>Source Verified</td>\n",
       "      <td>21.15</td>\n",
       "      <td>NaN</td>\n",
       "      <td>NaN</td>\n",
       "      <td>NaN</td>\n",
       "      <td>...</td>\n",
       "      <td>D1</td>\n",
       "      <td>Feb-2018</td>\n",
       "      <td>Current</td>\n",
       "      <td>fractional</td>\n",
       "      <td>Cash</td>\n",
       "      <td>1824.63</td>\n",
       "      <td>281.80</td>\n",
       "      <td>175.37</td>\n",
       "      <td>106.43</td>\n",
       "      <td>0.0</td>\n",
       "    </tr>\n",
       "    <tr>\n",
       "      <th>3</th>\n",
       "      <td>customer service</td>\n",
       "      <td>1.0</td>\n",
       "      <td>PA</td>\n",
       "      <td>RENT</td>\n",
       "      <td>30000.0</td>\n",
       "      <td>Not Verified</td>\n",
       "      <td>10.16</td>\n",
       "      <td>NaN</td>\n",
       "      <td>NaN</td>\n",
       "      <td>NaN</td>\n",
       "      <td>...</td>\n",
       "      <td>A3</td>\n",
       "      <td>Jan-2018</td>\n",
       "      <td>Current</td>\n",
       "      <td>whole</td>\n",
       "      <td>Cash</td>\n",
       "      <td>18853.26</td>\n",
       "      <td>3312.89</td>\n",
       "      <td>2746.74</td>\n",
       "      <td>566.15</td>\n",
       "      <td>0.0</td>\n",
       "    </tr>\n",
       "    <tr>\n",
       "      <th>4</th>\n",
       "      <td>security supervisor</td>\n",
       "      <td>10.0</td>\n",
       "      <td>CA</td>\n",
       "      <td>RENT</td>\n",
       "      <td>35000.0</td>\n",
       "      <td>Verified</td>\n",
       "      <td>57.96</td>\n",
       "      <td>57000.0</td>\n",
       "      <td>Verified</td>\n",
       "      <td>37.66</td>\n",
       "      <td>...</td>\n",
       "      <td>C3</td>\n",
       "      <td>Mar-2018</td>\n",
       "      <td>Current</td>\n",
       "      <td>whole</td>\n",
       "      <td>Cash</td>\n",
       "      <td>21430.15</td>\n",
       "      <td>2324.65</td>\n",
       "      <td>1569.85</td>\n",
       "      <td>754.80</td>\n",
       "      <td>0.0</td>\n",
       "    </tr>\n",
       "  </tbody>\n",
       "</table>\n",
       "<p>5 rows × 55 columns</p>\n",
       "</div>"
      ],
      "text/plain": [
       "                 emp_title  emp_length state homeownership  annual_income  \\\n",
       "0  global config engineer          3.0    NJ      MORTGAGE        90000.0   \n",
       "1   warehouse office clerk        10.0    HI          RENT        40000.0   \n",
       "2                 assembly         3.0    WI          RENT        40000.0   \n",
       "3         customer service         1.0    PA          RENT        30000.0   \n",
       "4     security supervisor         10.0    CA          RENT        35000.0   \n",
       "\n",
       "   verified_income  debt_to_income  annual_income_joint  \\\n",
       "0         Verified           18.01                  NaN   \n",
       "1     Not Verified            5.04                  NaN   \n",
       "2  Source Verified           21.15                  NaN   \n",
       "3     Not Verified           10.16                  NaN   \n",
       "4         Verified           57.96              57000.0   \n",
       "\n",
       "  verification_income_joint  debt_to_income_joint  ...  sub_grade  \\\n",
       "0                       NaN                   NaN  ...         C3   \n",
       "1                       NaN                   NaN  ...         C1   \n",
       "2                       NaN                   NaN  ...         D1   \n",
       "3                       NaN                   NaN  ...         A3   \n",
       "4                  Verified                 37.66  ...         C3   \n",
       "\n",
       "   issue_month  loan_status  initial_listing_status  disbursement_method  \\\n",
       "0     Mar-2018      Current                   whole                 Cash   \n",
       "1     Feb-2018      Current                   whole                 Cash   \n",
       "2     Feb-2018      Current              fractional                 Cash   \n",
       "3     Jan-2018      Current                   whole                 Cash   \n",
       "4     Mar-2018      Current                   whole                 Cash   \n",
       "\n",
       "    balance  paid_total  paid_principal  paid_interest  paid_late_fees  \n",
       "0  27015.86     1999.33          984.14        1015.19             0.0  \n",
       "1   4651.37      499.12          348.63         150.49             0.0  \n",
       "2   1824.63      281.80          175.37         106.43             0.0  \n",
       "3  18853.26     3312.89         2746.74         566.15             0.0  \n",
       "4  21430.15     2324.65         1569.85         754.80             0.0  \n",
       "\n",
       "[5 rows x 55 columns]"
      ]
     },
     "execution_count": 2,
     "metadata": {},
     "output_type": "execute_result"
    }
   ],
   "source": [
    "data = pd.read_csv(\"loans_full_schema.csv\")\n",
    "\n",
    "data.head()"
   ]
  },
  {
   "cell_type": "markdown",
   "id": "0ee33135",
   "metadata": {},
   "source": [
    "Data Processing involves evaluating multiple factors such as data format correctness, percentage of missing data, and data distribution with respect to our feature of interest, i.e. interest rate, as shown below."
   ]
  },
  {
   "cell_type": "code",
   "execution_count": 3,
   "id": "c1b5dbd0",
   "metadata": {},
   "outputs": [
    {
     "name": "stdout",
     "output_type": "stream",
     "text": [
      "Data format is as follows:\n",
      "\n",
      "1. Categorical columns:\n",
      "Index(['emp_title', 'state', 'homeownership', 'verified_income',\n",
      "       'verification_income_joint', 'loan_purpose', 'application_type',\n",
      "       'grade', 'sub_grade', 'issue_month', 'loan_status',\n",
      "       'initial_listing_status', 'disbursement_method'],\n",
      "      dtype='object')\n",
      "\n",
      "2. Numerical columns:\n",
      "Index(['emp_length', 'annual_income', 'debt_to_income', 'annual_income_joint',\n",
      "       'debt_to_income_joint', 'delinq_2y', 'months_since_last_delinq',\n",
      "       'earliest_credit_line', 'inquiries_last_12m', 'total_credit_lines',\n",
      "       'open_credit_lines', 'total_credit_limit', 'total_credit_utilized',\n",
      "       'num_collections_last_12m', 'num_historical_failed_to_pay',\n",
      "       'months_since_90d_late', 'current_accounts_delinq',\n",
      "       'total_collection_amount_ever', 'current_installment_accounts',\n",
      "       'accounts_opened_24m', 'months_since_last_credit_inquiry',\n",
      "       'num_satisfactory_accounts', 'num_accounts_120d_past_due',\n",
      "       'num_accounts_30d_past_due', 'num_active_debit_accounts',\n",
      "       'total_debit_limit', 'num_total_cc_accounts', 'num_open_cc_accounts',\n",
      "       'num_cc_carrying_balance', 'num_mort_accounts',\n",
      "       'account_never_delinq_percent', 'tax_liens', 'public_record_bankrupt',\n",
      "       'loan_amount', 'term', 'interest_rate', 'installment', 'balance',\n",
      "       'paid_total', 'paid_principal', 'paid_interest', 'paid_late_fees'],\n",
      "      dtype='object')\n"
     ]
    }
   ],
   "source": [
    "print(\"Data format is as follows:\\n\")\n",
    "\n",
    "print(\"1. Categorical columns:\")\n",
    "print(data.select_dtypes([\"object\"]).columns)\n",
    "\n",
    "print(\"\\n2. Numerical columns:\")\n",
    "print(data.select_dtypes([\"int64\", \"float64\"]).columns)"
   ]
  },
  {
   "cell_type": "markdown",
   "id": "31bedc91",
   "metadata": {},
   "source": [
    "We can see that the data format for all columns is correct."
   ]
  },
  {
   "cell_type": "code",
   "execution_count": 4,
   "id": "652f0a87",
   "metadata": {},
   "outputs": [
    {
     "name": "stdout",
     "output_type": "stream",
     "text": [
      "\n",
      "The columns with missing data and their percentage missing values are shown below:\n"
     ]
    },
    {
     "data": {
      "text/html": [
       "<div>\n",
       "<style scoped>\n",
       "    .dataframe tbody tr th:only-of-type {\n",
       "        vertical-align: middle;\n",
       "    }\n",
       "\n",
       "    .dataframe tbody tr th {\n",
       "        vertical-align: top;\n",
       "    }\n",
       "\n",
       "    .dataframe thead th {\n",
       "        text-align: right;\n",
       "    }\n",
       "</style>\n",
       "<table border=\"1\" class=\"dataframe\">\n",
       "  <thead>\n",
       "    <tr style=\"text-align: right;\">\n",
       "      <th></th>\n",
       "      <th>count</th>\n",
       "      <th>pct</th>\n",
       "    </tr>\n",
       "  </thead>\n",
       "  <tbody>\n",
       "    <tr>\n",
       "      <th>verification_income_joint</th>\n",
       "      <td>8545</td>\n",
       "      <td>85.45</td>\n",
       "    </tr>\n",
       "    <tr>\n",
       "      <th>annual_income_joint</th>\n",
       "      <td>8505</td>\n",
       "      <td>85.05</td>\n",
       "    </tr>\n",
       "    <tr>\n",
       "      <th>debt_to_income_joint</th>\n",
       "      <td>8505</td>\n",
       "      <td>85.05</td>\n",
       "    </tr>\n",
       "    <tr>\n",
       "      <th>months_since_90d_late</th>\n",
       "      <td>7715</td>\n",
       "      <td>77.15</td>\n",
       "    </tr>\n",
       "    <tr>\n",
       "      <th>months_since_last_delinq</th>\n",
       "      <td>5658</td>\n",
       "      <td>56.58</td>\n",
       "    </tr>\n",
       "    <tr>\n",
       "      <th>months_since_last_credit_inquiry</th>\n",
       "      <td>1271</td>\n",
       "      <td>12.71</td>\n",
       "    </tr>\n",
       "    <tr>\n",
       "      <th>emp_title</th>\n",
       "      <td>833</td>\n",
       "      <td>8.33</td>\n",
       "    </tr>\n",
       "    <tr>\n",
       "      <th>emp_length</th>\n",
       "      <td>817</td>\n",
       "      <td>8.17</td>\n",
       "    </tr>\n",
       "    <tr>\n",
       "      <th>num_accounts_120d_past_due</th>\n",
       "      <td>318</td>\n",
       "      <td>3.18</td>\n",
       "    </tr>\n",
       "    <tr>\n",
       "      <th>debt_to_income</th>\n",
       "      <td>24</td>\n",
       "      <td>0.24</td>\n",
       "    </tr>\n",
       "  </tbody>\n",
       "</table>\n",
       "</div>"
      ],
      "text/plain": [
       "                                  count    pct\n",
       "verification_income_joint          8545  85.45\n",
       "annual_income_joint                8505  85.05\n",
       "debt_to_income_joint               8505  85.05\n",
       "months_since_90d_late              7715  77.15\n",
       "months_since_last_delinq           5658  56.58\n",
       "months_since_last_credit_inquiry   1271  12.71\n",
       "emp_title                           833   8.33\n",
       "emp_length                          817   8.17\n",
       "num_accounts_120d_past_due          318   3.18\n",
       "debt_to_income                       24   0.24"
      ]
     },
     "execution_count": 4,
     "metadata": {},
     "output_type": "execute_result"
    }
   ],
   "source": [
    "print(\"\\nThe columns with missing data and their percentage missing values are shown below:\")\n",
    "\n",
    "missing_stats = pd.DataFrame(data.isnull().sum())\n",
    "missing_stats.columns=[\"count\"]\n",
    "missing_stats = missing_stats[missing_stats[\"count\"]>0]\n",
    "missing_stats[\"pct\"] = missing_stats/len(data) * 100\n",
    "missing_stats = missing_stats.sort_values(by=\"pct\", ascending=False)\n",
    "missing_stats"
   ]
  },
  {
   "cell_type": "markdown",
   "id": "2c5d2e3a",
   "metadata": {},
   "source": [
    "Before removing any missing data, we analyze its causes and evaluate if we can impute the missing data, as follows:\n",
    "\n",
    "1. Are the high missing values in the joint application-related data because of individual applications?\n",
    "2. Are the \"months since 90 days late\", \"months since last delinq\", and \"num accounts 120d past due\" missing data because it is not applicable to the specific application? Can we impute missing data?\n"
   ]
  },
  {
   "cell_type": "markdown",
   "id": "c3719b8d",
   "metadata": {},
   "source": [
    "#### 1. EDA for Joint-Application Data"
   ]
  },
  {
   "cell_type": "code",
   "execution_count": 5,
   "id": "5f9b7e6c",
   "metadata": {},
   "outputs": [
    {
     "name": "stdout",
     "output_type": "stream",
     "text": [
      "Total joint application = 1495\n",
      "Total individual application = 8505\n"
     ]
    }
   ],
   "source": [
    "total_joint_applns = len(data[data[\"application_type\"]==\"joint\"])\n",
    "total_indi_applns = len(data[data[\"application_type\"]==\"individual\"])\n",
    "\n",
    "print(\"Total joint application =\", total_joint_applns)\n",
    "print(\"Total individual application =\", total_indi_applns)\n",
    "\n",
    "assert len(data)==total_joint_applns+total_indi_applns"
   ]
  },
  {
   "cell_type": "code",
   "execution_count": 6,
   "id": "2966bdd5",
   "metadata": {},
   "outputs": [
    {
     "name": "stdout",
     "output_type": "stream",
     "text": [
      "Percentage Missing values in Joint-account data for Joint-account applications:\n"
     ]
    },
    {
     "data": {
      "text/plain": [
       "verification_income_joint    2.68\n",
       "annual_income_joint          0.00\n",
       "debt_to_income_joint         0.00\n",
       "dtype: float64"
      ]
     },
     "execution_count": 6,
     "metadata": {},
     "output_type": "execute_result"
    }
   ],
   "source": [
    "print(\"Percentage Missing values in Joint-account data for Joint-account applications:\")\n",
    "\n",
    "round(data[data[\"application_type\"]==\"joint\"][[\"verification_income_joint\", \"annual_income_joint\", \n",
    "                                         \"debt_to_income_joint\"]].isnull().sum()/total_joint_applns * 100, 2)\n"
   ]
  },
  {
   "cell_type": "markdown",
   "id": "2ef1ea1f",
   "metadata": {},
   "source": [
    "Hence, only **2.68%** of the joint income verification method data is missing."
   ]
  },
  {
   "cell_type": "markdown",
   "id": "8de7e328",
   "metadata": {},
   "source": [
    "We also confirm that data has not been incorrectly filled for joint-account application when it is an individual appication as below:"
   ]
  },
  {
   "cell_type": "code",
   "execution_count": 7,
   "id": "7545a526",
   "metadata": {},
   "outputs": [
    {
     "name": "stdout",
     "output_type": "stream",
     "text": [
      "Percentage Missing values in Joint-account data for Individual applications:\n"
     ]
    },
    {
     "data": {
      "text/plain": [
       "verification_income_joint    100.0\n",
       "annual_income_joint          100.0\n",
       "debt_to_income_joint         100.0\n",
       "dtype: float64"
      ]
     },
     "execution_count": 7,
     "metadata": {},
     "output_type": "execute_result"
    }
   ],
   "source": [
    "print(\"Percentage Missing values in Joint-account data for Individual applications:\")\n",
    "\n",
    "round(data[data[\"application_type\"]==\"individual\"][[\"verification_income_joint\", \"annual_income_joint\", \n",
    "                                              \"debt_to_income_joint\"]].isnull().sum()/total_indi_applns * 100, 2)\n"
   ]
  },
  {
   "cell_type": "markdown",
   "id": "8bff6002",
   "metadata": {},
   "source": [
    "We use the most-frequent method to impute joint income verification missing data as below:"
   ]
  },
  {
   "cell_type": "code",
   "execution_count": 8,
   "id": "85569169",
   "metadata": {},
   "outputs": [
    {
     "data": {
      "text/plain": [
       "Not Verified       611\n",
       "Source Verified    499\n",
       "Verified           345\n",
       "Name: verification_income_joint, dtype: int64"
      ]
     },
     "execution_count": 8,
     "metadata": {},
     "output_type": "execute_result"
    }
   ],
   "source": [
    "data[\"verification_income_joint\"].value_counts()"
   ]
  },
  {
   "cell_type": "code",
   "execution_count": 9,
   "id": "2cc0238b",
   "metadata": {},
   "outputs": [],
   "source": [
    "data.loc[(data[\"application_type\"]==\"joint\") & (data[\"verification_income_joint\"].isna()),\n",
    "         \"verification_income_joint\"]=\"Not Verified\""
   ]
  },
  {
   "cell_type": "code",
   "execution_count": 10,
   "id": "1637a7ed",
   "metadata": {},
   "outputs": [],
   "source": [
    "assert data[data[\"application_type\"]==\"joint\"][\"verification_income_joint\"].isna().sum() == 0"
   ]
  },
  {
   "cell_type": "markdown",
   "id": "a743c0b1",
   "metadata": {},
   "source": [
    "For individual applications, we also set these join-account related application data to 0 instead of missing values."
   ]
  },
  {
   "cell_type": "code",
   "execution_count": 11,
   "id": "c065cc3b",
   "metadata": {},
   "outputs": [
    {
     "data": {
      "text/plain": [
       "verification_income_joint    0\n",
       "annual_income_joint          0\n",
       "debt_to_income_joint         0\n",
       "dtype: int64"
      ]
     },
     "execution_count": 11,
     "metadata": {},
     "output_type": "execute_result"
    }
   ],
   "source": [
    "data.loc[(data[\"application_type\"]==\"individual\"),[\"verification_income_joint\", \n",
    "                                                   \"annual_income_joint\", \"debt_to_income_joint\"]] = 0\n",
    "\n",
    "data[[\"verification_income_joint\",\"annual_income_joint\", \"debt_to_income_joint\"]].isna().sum()"
   ]
  },
  {
   "cell_type": "markdown",
   "id": "8766016b",
   "metadata": {},
   "source": [
    "We look at the causes of missing data in \"months_since_last_delinq\" column"
   ]
  },
  {
   "cell_type": "code",
   "execution_count": 12,
   "id": "2dc7f38b",
   "metadata": {},
   "outputs": [
    {
     "data": {
      "text/plain": [
       "months_since_last_delinq    5658\n",
       "dtype: int64"
      ]
     },
     "execution_count": 12,
     "metadata": {},
     "output_type": "execute_result"
    }
   ],
   "source": [
    "data[[\"months_since_last_delinq\"]].isna().sum()"
   ]
  },
  {
   "cell_type": "code",
   "execution_count": 13,
   "id": "b21f6102",
   "metadata": {},
   "outputs": [
    {
     "data": {
      "text/plain": [
       "<AxesSubplot:>"
      ]
     },
     "execution_count": 13,
     "metadata": {},
     "output_type": "execute_result"
    },
    {
     "data": {
      "image/png": "[encoded data removed]",
      "text/plain": [
       "<Figure size 432x288 with 1 Axes>"
      ]
     },
     "metadata": {
      "needs_background": "light"
     },
     "output_type": "display_data"
    }
   ],
   "source": [
    "data[data[\"months_since_last_delinq\"].isna()][\"account_never_delinq_percent\"].hist(grid=False)"
   ]
  },
  {
   "cell_type": "markdown",
   "id": "528f9c35",
   "metadata": {},
   "source": [
    "Thus, we see that a majority of accounts have never been deliquent, hence we have missing values"
   ]
  },
  {
   "cell_type": "code",
   "execution_count": 14,
   "id": "4434e07e",
   "metadata": {},
   "outputs": [
    {
     "data": {
      "text/plain": [
       "<AxesSubplot:ylabel='Frequency'>"
      ]
     },
     "execution_count": 14,
     "metadata": {},
     "output_type": "execute_result"
    },
    {
     "data": {
      "image/png": "[encoded data removed]",
      "text/plain": [
       "<Figure size 432x288 with 1 Axes>"
      ]
     },
     "metadata": {
      "needs_background": "light"
     },
     "output_type": "display_data"
    }
   ],
   "source": [
    "data[(data[\"account_never_delinq_percent\"]==100)][\"months_since_last_delinq\"].plot.hist()"
   ]
  },
  {
   "cell_type": "markdown",
   "id": "fff1cc88",
   "metadata": {},
   "source": [
    "**Note:** There is a data consistency issue, as we have many observations where account has never been deliquent but we have non-zero values for months since last delinqency.\n",
    "\n",
    "For now, we just fill missing data for \"months_since_last_delinq\" using the average value."
   ]
  },
  {
   "cell_type": "code",
   "execution_count": 15,
   "id": "ce4331a4",
   "metadata": {},
   "outputs": [],
   "source": [
    "data.loc[data[\"months_since_last_delinq\"].isna(), \n",
    "         \"months_since_last_delinq\"] = int(np.mean(data[\"months_since_last_delinq\"]))\n",
    "\n",
    "assert data[\"months_since_last_delinq\"].isna().sum()==0"
   ]
  },
  {
   "cell_type": "markdown",
   "id": "d8ac08e9",
   "metadata": {},
   "source": [
    "We look at the causes of missing data in \"months_since_90d_late\" column"
   ]
  },
  {
   "cell_type": "code",
   "execution_count": 16,
   "id": "6632440b",
   "metadata": {},
   "outputs": [
    {
     "name": "stdout",
     "output_type": "stream",
     "text": [
      "7715\n"
     ]
    },
    {
     "data": {
      "text/plain": [
       "<AxesSubplot:>"
      ]
     },
     "execution_count": 16,
     "metadata": {},
     "output_type": "execute_result"
    },
    {
     "data": {
      "image/png": "[encoded data removed]",
      "text/plain": [
       "<Figure size 432x288 with 1 Axes>"
      ]
     },
     "metadata": {
      "needs_background": "light"
     },
     "output_type": "display_data"
    }
   ],
   "source": [
    "print(data[\"months_since_90d_late\"].isna().sum())\n",
    "\n",
    "data[data[\"months_since_90d_late\"].isna()][\"account_never_delinq_percent\"].hist(grid=False)"
   ]
  },
  {
   "cell_type": "code",
   "execution_count": 17,
   "id": "f2f578bd",
   "metadata": {},
   "outputs": [
    {
     "data": {
      "text/plain": [
       "<AxesSubplot:>"
      ]
     },
     "execution_count": 17,
     "metadata": {},
     "output_type": "execute_result"
    },
    {
     "data": {
      "image/png": "[encoded data removed]",
      "text/plain": [
       "<Figure size 432x288 with 1 Axes>"
      ]
     },
     "metadata": {
      "needs_background": "light"
     },
     "output_type": "display_data"
    }
   ],
   "source": [
    "data[data[\"account_never_delinq_percent\"]>90][\"months_since_90d_late\"].hist(grid=False)"
   ]
  },
  {
   "cell_type": "markdown",
   "id": "2807e65d",
   "metadata": {},
   "source": [
    "Thus, we see that a majority of accounts have never been deliquent, hence we have missing values.\n",
    "\n",
    "We impute these missing values using the average value"
   ]
  },
  {
   "cell_type": "code",
   "execution_count": 18,
   "id": "8f2c5568",
   "metadata": {},
   "outputs": [],
   "source": [
    "data.loc[data[\"months_since_90d_late\"].isna(), \n",
    "         \"months_since_90d_late\"] = int(np.mean(data[\"months_since_90d_late\"]))\n",
    "\n",
    "assert data[\"months_since_90d_late\"].isna().sum()==0"
   ]
  },
  {
   "cell_type": "markdown",
   "id": "176ec25a",
   "metadata": {},
   "source": [
    "We look at the causes of missing data in \"num_accounts_120d_past_due\" column"
   ]
  },
  {
   "cell_type": "code",
   "execution_count": 19,
   "id": "79eda251",
   "metadata": {},
   "outputs": [
    {
     "name": "stdout",
     "output_type": "stream",
     "text": [
      "318\n"
     ]
    },
    {
     "data": {
      "text/plain": [
       "<AxesSubplot:>"
      ]
     },
     "execution_count": 19,
     "metadata": {},
     "output_type": "execute_result"
    },
    {
     "data": {
      "image/png": "[encoded data removed]",
      "text/plain": [
       "<Figure size 432x288 with 1 Axes>"
      ]
     },
     "metadata": {
      "needs_background": "light"
     },
     "output_type": "display_data"
    }
   ],
   "source": [
    "print(data[\"num_accounts_120d_past_due\"].isna().sum())\n",
    "\n",
    "data[data[\"num_accounts_120d_past_due\"].isna()][\"paid_late_fees\"].hist(grid=False)"
   ]
  },
  {
   "cell_type": "code",
   "execution_count": 20,
   "id": "54f74269",
   "metadata": {},
   "outputs": [
    {
     "data": {
      "text/plain": [
       "0.0    9633\n",
       "Name: num_accounts_120d_past_due, dtype: int64"
      ]
     },
     "execution_count": 20,
     "metadata": {},
     "output_type": "execute_result"
    }
   ],
   "source": [
    "data[data[\"paid_late_fees\"]==0][\"num_accounts_120d_past_due\"].value_counts()"
   ]
  },
  {
   "cell_type": "markdown",
   "id": "fd35b8ef",
   "metadata": {},
   "source": [
    "Thus, most of these accounts are not past the due date.\n",
    "\n",
    "We put the missing value as zero."
   ]
  },
  {
   "cell_type": "code",
   "execution_count": 21,
   "id": "7b8e3a70",
   "metadata": {},
   "outputs": [],
   "source": [
    "data.loc[data[\"num_accounts_120d_past_due\"].isna(), \"num_accounts_120d_past_due\"] = 0\n",
    "\n",
    "assert data[\"num_accounts_120d_past_due\"].isna().sum()==0"
   ]
  },
  {
   "cell_type": "markdown",
   "id": "d44033a1",
   "metadata": {},
   "source": [
    "We impute these missing values using the average value for \"months_since_last_credit_inquiry\", \"debt_to_income\", and \"emp_length\" columns"
   ]
  },
  {
   "cell_type": "code",
   "execution_count": 22,
   "id": "bde8f9e7",
   "metadata": {},
   "outputs": [],
   "source": [
    "data.loc[data[\"months_since_last_credit_inquiry\"].isna(), \n",
    "         \"months_since_last_credit_inquiry\"] = int(np.mean(data[\"months_since_last_credit_inquiry\"]))\n",
    "\n",
    "assert data[\"months_since_last_credit_inquiry\"].isna().sum()==0"
   ]
  },
  {
   "cell_type": "code",
   "execution_count": 23,
   "id": "6af9524b",
   "metadata": {},
   "outputs": [],
   "source": [
    "data.loc[data[\"debt_to_income\"].isna(), \n",
    "         \"debt_to_income\"] = int(np.mean(data[\"debt_to_income\"]))\n",
    "\n",
    "assert data[\"debt_to_income\"].isna().sum()==0"
   ]
  },
  {
   "cell_type": "code",
   "execution_count": 24,
   "id": "c2d8d1e3",
   "metadata": {},
   "outputs": [],
   "source": [
    "data.loc[data[\"emp_length\"].isna(), \n",
    "         \"emp_length\"] = int(np.mean(data[\"emp_length\"]))\n",
    "\n",
    "assert data[\"emp_length\"].isna().sum()==0"
   ]
  },
  {
   "cell_type": "markdown",
   "id": "5531012e",
   "metadata": {},
   "source": [
    "## Data Modeling"
   ]
  },
  {
   "cell_type": "code",
   "execution_count": 25,
   "id": "9d345ed4",
   "metadata": {},
   "outputs": [
    {
     "data": {
      "text/plain": [
       "<AxesSubplot:>"
      ]
     },
     "execution_count": 25,
     "metadata": {},
     "output_type": "execute_result"
    },
    {
     "data": {
      "image/png": "[encoded data removed]",
      "text/plain": [
       "<Figure size 432x288 with 1 Axes>"
      ]
     },
     "metadata": {
      "needs_background": "light"
     },
     "output_type": "display_data"
    }
   ],
   "source": [
    "data['interest_rate'].hist(grid=False)"
   ]
  },
  {
   "cell_type": "markdown",
   "id": "942f5a2e",
   "metadata": {},
   "source": [
    "We follow the steps as mentioned below:\n",
    "* Select a small subset of features for initial analysis, based on business importance\n",
    "* Create dummy variables for categorical data\n",
    "* Use feature selection to select best-ranked features\n",
    "* Create models to predict interest rate"
   ]
  },
  {
   "cell_type": "code",
   "execution_count": 26,
   "id": "b796837d",
   "metadata": {},
   "outputs": [
    {
     "data": {
      "text/html": [
       "<div>\n",
       "<style scoped>\n",
       "    .dataframe tbody tr th:only-of-type {\n",
       "        vertical-align: middle;\n",
       "    }\n",
       "\n",
       "    .dataframe tbody tr th {\n",
       "        vertical-align: top;\n",
       "    }\n",
       "\n",
       "    .dataframe thead th {\n",
       "        text-align: right;\n",
       "    }\n",
       "</style>\n",
       "<table border=\"1\" class=\"dataframe\">\n",
       "  <thead>\n",
       "    <tr style=\"text-align: right;\">\n",
       "      <th></th>\n",
       "      <th>emp_length</th>\n",
       "      <th>homeownership</th>\n",
       "      <th>annual_income</th>\n",
       "      <th>debt_to_income</th>\n",
       "      <th>debt_to_income_joint</th>\n",
       "      <th>loan_status</th>\n",
       "      <th>num_mort_accounts</th>\n",
       "      <th>account_never_delinq_percent</th>\n",
       "      <th>term</th>\n",
       "      <th>installment</th>\n",
       "      <th>grade</th>\n",
       "      <th>loan_purpose</th>\n",
       "      <th>loan_amount</th>\n",
       "      <th>public_record_bankrupt</th>\n",
       "      <th>total_credit_limit</th>\n",
       "      <th>delinq_2y</th>\n",
       "      <th>interest_rate</th>\n",
       "    </tr>\n",
       "  </thead>\n",
       "  <tbody>\n",
       "    <tr>\n",
       "      <th>0</th>\n",
       "      <td>3.0</td>\n",
       "      <td>MORTGAGE</td>\n",
       "      <td>90000.0</td>\n",
       "      <td>18.01</td>\n",
       "      <td>0.00</td>\n",
       "      <td>Current</td>\n",
       "      <td>1</td>\n",
       "      <td>92.9</td>\n",
       "      <td>60</td>\n",
       "      <td>652.53</td>\n",
       "      <td>C</td>\n",
       "      <td>moving</td>\n",
       "      <td>28000</td>\n",
       "      <td>0</td>\n",
       "      <td>70795</td>\n",
       "      <td>0</td>\n",
       "      <td>14.07</td>\n",
       "    </tr>\n",
       "    <tr>\n",
       "      <th>1</th>\n",
       "      <td>10.0</td>\n",
       "      <td>RENT</td>\n",
       "      <td>40000.0</td>\n",
       "      <td>5.04</td>\n",
       "      <td>0.00</td>\n",
       "      <td>Current</td>\n",
       "      <td>0</td>\n",
       "      <td>100.0</td>\n",
       "      <td>36</td>\n",
       "      <td>167.54</td>\n",
       "      <td>C</td>\n",
       "      <td>debt_consolidation</td>\n",
       "      <td>5000</td>\n",
       "      <td>1</td>\n",
       "      <td>28800</td>\n",
       "      <td>0</td>\n",
       "      <td>12.61</td>\n",
       "    </tr>\n",
       "    <tr>\n",
       "      <th>2</th>\n",
       "      <td>3.0</td>\n",
       "      <td>RENT</td>\n",
       "      <td>40000.0</td>\n",
       "      <td>21.15</td>\n",
       "      <td>0.00</td>\n",
       "      <td>Current</td>\n",
       "      <td>0</td>\n",
       "      <td>93.5</td>\n",
       "      <td>36</td>\n",
       "      <td>71.40</td>\n",
       "      <td>D</td>\n",
       "      <td>other</td>\n",
       "      <td>2000</td>\n",
       "      <td>0</td>\n",
       "      <td>24193</td>\n",
       "      <td>0</td>\n",
       "      <td>17.09</td>\n",
       "    </tr>\n",
       "    <tr>\n",
       "      <th>3</th>\n",
       "      <td>1.0</td>\n",
       "      <td>RENT</td>\n",
       "      <td>30000.0</td>\n",
       "      <td>10.16</td>\n",
       "      <td>0.00</td>\n",
       "      <td>Current</td>\n",
       "      <td>0</td>\n",
       "      <td>100.0</td>\n",
       "      <td>36</td>\n",
       "      <td>664.19</td>\n",
       "      <td>A</td>\n",
       "      <td>debt_consolidation</td>\n",
       "      <td>21600</td>\n",
       "      <td>0</td>\n",
       "      <td>25400</td>\n",
       "      <td>0</td>\n",
       "      <td>6.72</td>\n",
       "    </tr>\n",
       "    <tr>\n",
       "      <th>4</th>\n",
       "      <td>10.0</td>\n",
       "      <td>RENT</td>\n",
       "      <td>35000.0</td>\n",
       "      <td>57.96</td>\n",
       "      <td>37.66</td>\n",
       "      <td>Current</td>\n",
       "      <td>0</td>\n",
       "      <td>100.0</td>\n",
       "      <td>36</td>\n",
       "      <td>786.87</td>\n",
       "      <td>C</td>\n",
       "      <td>credit_card</td>\n",
       "      <td>23000</td>\n",
       "      <td>0</td>\n",
       "      <td>69839</td>\n",
       "      <td>0</td>\n",
       "      <td>14.07</td>\n",
       "    </tr>\n",
       "  </tbody>\n",
       "</table>\n",
       "</div>"
      ],
      "text/plain": [
       "   emp_length homeownership  annual_income  debt_to_income  \\\n",
       "0         3.0      MORTGAGE        90000.0           18.01   \n",
       "1        10.0          RENT        40000.0            5.04   \n",
       "2         3.0          RENT        40000.0           21.15   \n",
       "3         1.0          RENT        30000.0           10.16   \n",
       "4        10.0          RENT        35000.0           57.96   \n",
       "\n",
       "   debt_to_income_joint loan_status  num_mort_accounts  \\\n",
       "0                  0.00     Current                  1   \n",
       "1                  0.00     Current                  0   \n",
       "2                  0.00     Current                  0   \n",
       "3                  0.00     Current                  0   \n",
       "4                 37.66     Current                  0   \n",
       "\n",
       "   account_never_delinq_percent  term  installment grade        loan_purpose  \\\n",
       "0                          92.9    60       652.53     C              moving   \n",
       "1                         100.0    36       167.54     C  debt_consolidation   \n",
       "2                          93.5    36        71.40     D               other   \n",
       "3                         100.0    36       664.19     A  debt_consolidation   \n",
       "4                         100.0    36       786.87     C         credit_card   \n",
       "\n",
       "   loan_amount  public_record_bankrupt  total_credit_limit  delinq_2y  \\\n",
       "0        28000                       0               70795          0   \n",
       "1         5000                       1               28800          0   \n",
       "2         2000                       0               24193          0   \n",
       "3        21600                       0               25400          0   \n",
       "4        23000                       0               69839          0   \n",
       "\n",
       "   interest_rate  \n",
       "0          14.07  \n",
       "1          12.61  \n",
       "2          17.09  \n",
       "3           6.72  \n",
       "4          14.07  "
      ]
     },
     "execution_count": 26,
     "metadata": {},
     "output_type": "execute_result"
    }
   ],
   "source": [
    "data_2 = data[['emp_length','homeownership', 'annual_income', 'debt_to_income', 'debt_to_income_joint', \n",
    "               'loan_status', 'num_mort_accounts', 'account_never_delinq_percent', 'term', 'installment',\n",
    "               'grade', 'loan_purpose', 'loan_amount', 'public_record_bankrupt', 'total_credit_limit',\n",
    "               'delinq_2y','interest_rate']]\n",
    "data_2.head()"
   ]
  },
  {
   "cell_type": "code",
   "execution_count": 27,
   "id": "da276d98",
   "metadata": {},
   "outputs": [
    {
     "data": {
      "text/html": [
       "<div>\n",
       "<style scoped>\n",
       "    .dataframe tbody tr th:only-of-type {\n",
       "        vertical-align: middle;\n",
       "    }\n",
       "\n",
       "    .dataframe tbody tr th {\n",
       "        vertical-align: top;\n",
       "    }\n",
       "\n",
       "    .dataframe thead th {\n",
       "        text-align: right;\n",
       "    }\n",
       "</style>\n",
       "<table border=\"1\" class=\"dataframe\">\n",
       "  <thead>\n",
       "    <tr style=\"text-align: right;\">\n",
       "      <th></th>\n",
       "      <th>emp_length</th>\n",
       "      <th>annual_income</th>\n",
       "      <th>debt_to_income</th>\n",
       "      <th>debt_to_income_joint</th>\n",
       "      <th>num_mort_accounts</th>\n",
       "      <th>account_never_delinq_percent</th>\n",
       "      <th>term</th>\n",
       "      <th>installment</th>\n",
       "      <th>loan_amount</th>\n",
       "      <th>public_record_bankrupt</th>\n",
       "      <th>...</th>\n",
       "      <th>loan_purpose_debt_consolidation</th>\n",
       "      <th>loan_purpose_home_improvement</th>\n",
       "      <th>loan_purpose_house</th>\n",
       "      <th>loan_purpose_major_purchase</th>\n",
       "      <th>loan_purpose_medical</th>\n",
       "      <th>loan_purpose_moving</th>\n",
       "      <th>loan_purpose_other</th>\n",
       "      <th>loan_purpose_renewable_energy</th>\n",
       "      <th>loan_purpose_small_business</th>\n",
       "      <th>loan_purpose_vacation</th>\n",
       "    </tr>\n",
       "  </thead>\n",
       "  <tbody>\n",
       "    <tr>\n",
       "      <th>0</th>\n",
       "      <td>3.0</td>\n",
       "      <td>90000.0</td>\n",
       "      <td>18.01</td>\n",
       "      <td>0.00</td>\n",
       "      <td>1</td>\n",
       "      <td>92.9</td>\n",
       "      <td>60</td>\n",
       "      <td>652.53</td>\n",
       "      <td>28000</td>\n",
       "      <td>0</td>\n",
       "      <td>...</td>\n",
       "      <td>0</td>\n",
       "      <td>0</td>\n",
       "      <td>0</td>\n",
       "      <td>0</td>\n",
       "      <td>0</td>\n",
       "      <td>1</td>\n",
       "      <td>0</td>\n",
       "      <td>0</td>\n",
       "      <td>0</td>\n",
       "      <td>0</td>\n",
       "    </tr>\n",
       "    <tr>\n",
       "      <th>1</th>\n",
       "      <td>10.0</td>\n",
       "      <td>40000.0</td>\n",
       "      <td>5.04</td>\n",
       "      <td>0.00</td>\n",
       "      <td>0</td>\n",
       "      <td>100.0</td>\n",
       "      <td>36</td>\n",
       "      <td>167.54</td>\n",
       "      <td>5000</td>\n",
       "      <td>1</td>\n",
       "      <td>...</td>\n",
       "      <td>1</td>\n",
       "      <td>0</td>\n",
       "      <td>0</td>\n",
       "      <td>0</td>\n",
       "      <td>0</td>\n",
       "      <td>0</td>\n",
       "      <td>0</td>\n",
       "      <td>0</td>\n",
       "      <td>0</td>\n",
       "      <td>0</td>\n",
       "    </tr>\n",
       "    <tr>\n",
       "      <th>2</th>\n",
       "      <td>3.0</td>\n",
       "      <td>40000.0</td>\n",
       "      <td>21.15</td>\n",
       "      <td>0.00</td>\n",
       "      <td>0</td>\n",
       "      <td>93.5</td>\n",
       "      <td>36</td>\n",
       "      <td>71.40</td>\n",
       "      <td>2000</td>\n",
       "      <td>0</td>\n",
       "      <td>...</td>\n",
       "      <td>0</td>\n",
       "      <td>0</td>\n",
       "      <td>0</td>\n",
       "      <td>0</td>\n",
       "      <td>0</td>\n",
       "      <td>0</td>\n",
       "      <td>1</td>\n",
       "      <td>0</td>\n",
       "      <td>0</td>\n",
       "      <td>0</td>\n",
       "    </tr>\n",
       "    <tr>\n",
       "      <th>3</th>\n",
       "      <td>1.0</td>\n",
       "      <td>30000.0</td>\n",
       "      <td>10.16</td>\n",
       "      <td>0.00</td>\n",
       "      <td>0</td>\n",
       "      <td>100.0</td>\n",
       "      <td>36</td>\n",
       "      <td>664.19</td>\n",
       "      <td>21600</td>\n",
       "      <td>0</td>\n",
       "      <td>...</td>\n",
       "      <td>1</td>\n",
       "      <td>0</td>\n",
       "      <td>0</td>\n",
       "      <td>0</td>\n",
       "      <td>0</td>\n",
       "      <td>0</td>\n",
       "      <td>0</td>\n",
       "      <td>0</td>\n",
       "      <td>0</td>\n",
       "      <td>0</td>\n",
       "    </tr>\n",
       "    <tr>\n",
       "      <th>4</th>\n",
       "      <td>10.0</td>\n",
       "      <td>35000.0</td>\n",
       "      <td>57.96</td>\n",
       "      <td>37.66</td>\n",
       "      <td>0</td>\n",
       "      <td>100.0</td>\n",
       "      <td>36</td>\n",
       "      <td>786.87</td>\n",
       "      <td>23000</td>\n",
       "      <td>0</td>\n",
       "      <td>...</td>\n",
       "      <td>0</td>\n",
       "      <td>0</td>\n",
       "      <td>0</td>\n",
       "      <td>0</td>\n",
       "      <td>0</td>\n",
       "      <td>0</td>\n",
       "      <td>0</td>\n",
       "      <td>0</td>\n",
       "      <td>0</td>\n",
       "      <td>0</td>\n",
       "    </tr>\n",
       "  </tbody>\n",
       "</table>\n",
       "<p>5 rows × 37 columns</p>\n",
       "</div>"
      ],
      "text/plain": [
       "   emp_length  annual_income  debt_to_income  debt_to_income_joint  \\\n",
       "0         3.0        90000.0           18.01                  0.00   \n",
       "1        10.0        40000.0            5.04                  0.00   \n",
       "2         3.0        40000.0           21.15                  0.00   \n",
       "3         1.0        30000.0           10.16                  0.00   \n",
       "4        10.0        35000.0           57.96                 37.66   \n",
       "\n",
       "   num_mort_accounts  account_never_delinq_percent  term  installment  \\\n",
       "0                  1                          92.9    60       652.53   \n",
       "1                  0                         100.0    36       167.54   \n",
       "2                  0                          93.5    36        71.40   \n",
       "3                  0                         100.0    36       664.19   \n",
       "4                  0                         100.0    36       786.87   \n",
       "\n",
       "   loan_amount  public_record_bankrupt  ...  loan_purpose_debt_consolidation  \\\n",
       "0        28000                       0  ...                                0   \n",
       "1         5000                       1  ...                                1   \n",
       "2         2000                       0  ...                                0   \n",
       "3        21600                       0  ...                                1   \n",
       "4        23000                       0  ...                                0   \n",
       "\n",
       "   loan_purpose_home_improvement  loan_purpose_house  \\\n",
       "0                              0                   0   \n",
       "1                              0                   0   \n",
       "2                              0                   0   \n",
       "3                              0                   0   \n",
       "4                              0                   0   \n",
       "\n",
       "   loan_purpose_major_purchase  loan_purpose_medical  loan_purpose_moving  \\\n",
       "0                            0                     0                    1   \n",
       "1                            0                     0                    0   \n",
       "2                            0                     0                    0   \n",
       "3                            0                     0                    0   \n",
       "4                            0                     0                    0   \n",
       "\n",
       "   loan_purpose_other  loan_purpose_renewable_energy  \\\n",
       "0                   0                              0   \n",
       "1                   0                              0   \n",
       "2                   1                              0   \n",
       "3                   0                              0   \n",
       "4                   0                              0   \n",
       "\n",
       "   loan_purpose_small_business  loan_purpose_vacation  \n",
       "0                            0                      0  \n",
       "1                            0                      0  \n",
       "2                            0                      0  \n",
       "3                            0                      0  \n",
       "4                            0                      0  \n",
       "\n",
       "[5 rows x 37 columns]"
      ]
     },
     "execution_count": 27,
     "metadata": {},
     "output_type": "execute_result"
    }
   ],
   "source": [
    "data_3 = pd.get_dummies(data_2, drop_first=True)\n",
    "data_3.head()"
   ]
  },
  {
   "cell_type": "code",
   "execution_count": 28,
   "id": "5017e707",
   "metadata": {},
   "outputs": [
    {
     "data": {
      "text/plain": [
       "Index(['debt_to_income', 'term', 'installment', 'loan_amount',\n",
       "       'total_credit_limit', 'grade_B', 'grade_C', 'grade_D', 'grade_E',\n",
       "       'grade_F'],\n",
       "      dtype='object')"
      ]
     },
     "execution_count": 28,
     "metadata": {},
     "output_type": "execute_result"
    }
   ],
   "source": [
    "X = data_3.loc[:, data_3.columns!='interest_rate']\n",
    "y = data_3['interest_rate']\n",
    "\n",
    "selector = SelectKBest(mutual_info_regression, k=10)\n",
    "selector.fit(X, y)\n",
    "X.columns[selector.get_support()]"
   ]
  },
  {
   "cell_type": "code",
   "execution_count": 29,
   "id": "3000af65",
   "metadata": {},
   "outputs": [
    {
     "data": {
      "text/html": [
       "<div>\n",
       "<style scoped>\n",
       "    .dataframe tbody tr th:only-of-type {\n",
       "        vertical-align: middle;\n",
       "    }\n",
       "\n",
       "    .dataframe tbody tr th {\n",
       "        vertical-align: top;\n",
       "    }\n",
       "\n",
       "    .dataframe thead th {\n",
       "        text-align: right;\n",
       "    }\n",
       "</style>\n",
       "<table border=\"1\" class=\"dataframe\">\n",
       "  <thead>\n",
       "    <tr style=\"text-align: right;\">\n",
       "      <th></th>\n",
       "      <th>debt_to_income</th>\n",
       "      <th>term</th>\n",
       "      <th>installment</th>\n",
       "      <th>loan_amount</th>\n",
       "      <th>total_credit_limit</th>\n",
       "      <th>grade_B</th>\n",
       "      <th>grade_C</th>\n",
       "      <th>grade_D</th>\n",
       "      <th>grade_E</th>\n",
       "      <th>grade_F</th>\n",
       "    </tr>\n",
       "  </thead>\n",
       "  <tbody>\n",
       "    <tr>\n",
       "      <th>0</th>\n",
       "      <td>18.01</td>\n",
       "      <td>60</td>\n",
       "      <td>652.53</td>\n",
       "      <td>28000</td>\n",
       "      <td>70795</td>\n",
       "      <td>0</td>\n",
       "      <td>1</td>\n",
       "      <td>0</td>\n",
       "      <td>0</td>\n",
       "      <td>0</td>\n",
       "    </tr>\n",
       "    <tr>\n",
       "      <th>1</th>\n",
       "      <td>5.04</td>\n",
       "      <td>36</td>\n",
       "      <td>167.54</td>\n",
       "      <td>5000</td>\n",
       "      <td>28800</td>\n",
       "      <td>0</td>\n",
       "      <td>1</td>\n",
       "      <td>0</td>\n",
       "      <td>0</td>\n",
       "      <td>0</td>\n",
       "    </tr>\n",
       "    <tr>\n",
       "      <th>2</th>\n",
       "      <td>21.15</td>\n",
       "      <td>36</td>\n",
       "      <td>71.40</td>\n",
       "      <td>2000</td>\n",
       "      <td>24193</td>\n",
       "      <td>0</td>\n",
       "      <td>0</td>\n",
       "      <td>1</td>\n",
       "      <td>0</td>\n",
       "      <td>0</td>\n",
       "    </tr>\n",
       "    <tr>\n",
       "      <th>3</th>\n",
       "      <td>10.16</td>\n",
       "      <td>36</td>\n",
       "      <td>664.19</td>\n",
       "      <td>21600</td>\n",
       "      <td>25400</td>\n",
       "      <td>0</td>\n",
       "      <td>0</td>\n",
       "      <td>0</td>\n",
       "      <td>0</td>\n",
       "      <td>0</td>\n",
       "    </tr>\n",
       "    <tr>\n",
       "      <th>4</th>\n",
       "      <td>57.96</td>\n",
       "      <td>36</td>\n",
       "      <td>786.87</td>\n",
       "      <td>23000</td>\n",
       "      <td>69839</td>\n",
       "      <td>0</td>\n",
       "      <td>1</td>\n",
       "      <td>0</td>\n",
       "      <td>0</td>\n",
       "      <td>0</td>\n",
       "    </tr>\n",
       "  </tbody>\n",
       "</table>\n",
       "</div>"
      ],
      "text/plain": [
       "   debt_to_income  term  installment  loan_amount  total_credit_limit  \\\n",
       "0           18.01    60       652.53        28000               70795   \n",
       "1            5.04    36       167.54         5000               28800   \n",
       "2           21.15    36        71.40         2000               24193   \n",
       "3           10.16    36       664.19        21600               25400   \n",
       "4           57.96    36       786.87        23000               69839   \n",
       "\n",
       "   grade_B  grade_C  grade_D  grade_E  grade_F  \n",
       "0        0        1        0        0        0  \n",
       "1        0        1        0        0        0  \n",
       "2        0        0        1        0        0  \n",
       "3        0        0        0        0        0  \n",
       "4        0        1        0        0        0  "
      ]
     },
     "execution_count": 29,
     "metadata": {},
     "output_type": "execute_result"
    }
   ],
   "source": [
    "X = X.loc[:, X.columns[selector.get_support()]]\n",
    "X.head()"
   ]
  },
  {
   "cell_type": "code",
   "execution_count": 30,
   "id": "90337f1d",
   "metadata": {},
   "outputs": [],
   "source": [
    "X_train, X_test, y_train, y_test = train_test_split(X, y, random_state=12)"
   ]
  },
  {
   "cell_type": "markdown",
   "id": "0a149213",
   "metadata": {},
   "source": [
    "Linear Model - Ordinary Least Squares Estimation"
   ]
  },
  {
   "cell_type": "code",
   "execution_count": 31,
   "id": "d65efbeb",
   "metadata": {},
   "outputs": [
    {
     "name": "stdout",
     "output_type": "stream",
     "text": [
      "                            OLS Regression Results                            \n",
      "==============================================================================\n",
      "Dep. Variable:          interest_rate   R-squared:                       0.933\n",
      "Model:                            OLS   Adj. R-squared:                  0.933\n",
      "Method:                 Least Squares   F-statistic:                 1.043e+04\n",
      "Date:                Tue, 12 Apr 2022   Prob (F-statistic):               0.00\n",
      "Time:                        03:26:14   Log-Likelihood:                -12561.\n",
      "No. Observations:                7500   AIC:                         2.514e+04\n",
      "Df Residuals:                    7489   BIC:                         2.522e+04\n",
      "Df Model:                          10                                         \n",
      "Covariance Type:            nonrobust                                         \n",
      "======================================================================================\n",
      "                         coef    std err          t      P>|t|      [0.025      0.975]\n",
      "--------------------------------------------------------------------------------------\n",
      "const                  3.9749      0.119     33.472      0.000       3.742       4.208\n",
      "debt_to_income         0.0047      0.001      4.654      0.000       0.003       0.007\n",
      "term                   0.0788      0.003     25.117      0.000       0.073       0.085\n",
      "installment            0.0077      0.000     24.525      0.000       0.007       0.008\n",
      "loan_amount           -0.0002   9.59e-06    -24.359      0.000      -0.000      -0.000\n",
      "total_credit_limit -3.266e-07   8.36e-08     -3.908      0.000    -4.9e-07   -1.63e-07\n",
      "grade_B                3.4493      0.042     82.532      0.000       3.367       3.531\n",
      "grade_C                6.8115      0.047    145.876      0.000       6.720       6.903\n",
      "grade_D               11.3505      0.060    188.193      0.000      11.232      11.469\n",
      "grade_E               16.7828      0.105    159.499      0.000      16.577      16.989\n",
      "grade_F               20.3883      0.208     98.203      0.000      19.981      20.795\n",
      "==============================================================================\n",
      "Omnibus:                     8092.654   Durbin-Watson:                   2.027\n",
      "Prob(Omnibus):                  0.000   Jarque-Bera (JB):          2156997.435\n",
      "Skew:                           4.981   Prob(JB):                         0.00\n",
      "Kurtosis:                      85.481   Cond. No.                     3.88e+06\n",
      "==============================================================================\n",
      "\n",
      "Notes:\n",
      "[1] Standard Errors assume that the covariance matrix of the errors is correctly specified.\n",
      "[2] The condition number is large, 3.88e+06. This might indicate that there are\n",
      "strong multicollinearity or other numerical problems.\n"
     ]
    }
   ],
   "source": [
    "model = sm.OLS(y_train, sm.add_constant(X_train))\n",
    "model = model.fit()\n",
    "print(model.summary())"
   ]
  },
  {
   "cell_type": "code",
   "execution_count": 32,
   "id": "6cd42fa1",
   "metadata": {},
   "outputs": [],
   "source": [
    "ols_results = model.predict(sm.add_constant(X_test))"
   ]
  },
  {
   "cell_type": "code",
   "execution_count": 33,
   "id": "5732b8a9",
   "metadata": {},
   "outputs": [
    {
     "data": {
      "text/plain": [
       "-2.028779134117176"
      ]
     },
     "execution_count": 33,
     "metadata": {},
     "output_type": "execute_result"
    }
   ],
   "source": [
    "regr = MLPRegressor(random_state=12).fit(X_train, y_train)\n",
    "regr.score(X_test, y_test)"
   ]
  },
  {
   "cell_type": "code",
   "execution_count": 34,
   "id": "67e032f6",
   "metadata": {},
   "outputs": [],
   "source": [
    "mlp_results = regr.predict(X_test)"
   ]
  },
  {
   "cell_type": "code",
   "execution_count": 35,
   "id": "d9b0e529",
   "metadata": {},
   "outputs": [
    {
     "data": {
      "text/html": [
       "<div>\n",
       "<style scoped>\n",
       "    .dataframe tbody tr th:only-of-type {\n",
       "        vertical-align: middle;\n",
       "    }\n",
       "\n",
       "    .dataframe tbody tr th {\n",
       "        vertical-align: top;\n",
       "    }\n",
       "\n",
       "    .dataframe thead th {\n",
       "        text-align: right;\n",
       "    }\n",
       "</style>\n",
       "<table border=\"1\" class=\"dataframe\">\n",
       "  <thead>\n",
       "    <tr style=\"text-align: right;\">\n",
       "      <th></th>\n",
       "      <th>OLS</th>\n",
       "      <th>MLP</th>\n",
       "      <th>Actual</th>\n",
       "    </tr>\n",
       "  </thead>\n",
       "  <tbody>\n",
       "    <tr>\n",
       "      <th>0</th>\n",
       "      <td>13.695263</td>\n",
       "      <td>8.937897</td>\n",
       "      <td>15.04</td>\n",
       "    </tr>\n",
       "    <tr>\n",
       "      <th>1</th>\n",
       "      <td>6.525926</td>\n",
       "      <td>33.728347</td>\n",
       "      <td>5.31</td>\n",
       "    </tr>\n",
       "    <tr>\n",
       "      <th>2</th>\n",
       "      <td>9.935164</td>\n",
       "      <td>-4.571621</td>\n",
       "      <td>11.99</td>\n",
       "    </tr>\n",
       "    <tr>\n",
       "      <th>3</th>\n",
       "      <td>10.078855</td>\n",
       "      <td>22.263759</td>\n",
       "      <td>9.44</td>\n",
       "    </tr>\n",
       "    <tr>\n",
       "      <th>4</th>\n",
       "      <td>13.886726</td>\n",
       "      <td>12.324905</td>\n",
       "      <td>14.07</td>\n",
       "    </tr>\n",
       "  </tbody>\n",
       "</table>\n",
       "</div>"
      ],
      "text/plain": [
       "         OLS        MLP  Actual\n",
       "0  13.695263   8.937897   15.04\n",
       "1   6.525926  33.728347    5.31\n",
       "2   9.935164  -4.571621   11.99\n",
       "3  10.078855  22.263759    9.44\n",
       "4  13.886726  12.324905   14.07"
      ]
     },
     "execution_count": 35,
     "metadata": {},
     "output_type": "execute_result"
    }
   ],
   "source": [
    "results = pd.DataFrame({\"OLS\": ols_results, \"MLP\": mlp_results, \"Actual\": y_test}).reset_index(drop=True)\n",
    "results.head()"
   ]
  },
  {
   "cell_type": "code",
   "execution_count": 36,
   "id": "b8288e33",
   "metadata": {},
   "outputs": [
    {
     "data": {
      "text/plain": [
       "<AxesSubplot:xlabel='OLS', ylabel='Actual'>"
      ]
     },
     "execution_count": 36,
     "metadata": {},
     "output_type": "execute_result"
    },
    {
     "data": {
      "image/png": "[encoded data removed]",
      "text/plain": [
       "<Figure size 432x288 with 1 Axes>"
      ]
     },
     "metadata": {
      "needs_background": "light"
     },
     "output_type": "display_data"
    }
   ],
   "source": [
    "results[[\"OLS\", \"Actual\"]].plot.scatter(x=\"OLS\", y =\"Actual\")"
   ]
  },
  {
   "cell_type": "code",
   "execution_count": 37,
   "id": "3dd540d4",
   "metadata": {},
   "outputs": [
    {
     "data": {
      "text/plain": [
       "<AxesSubplot:xlabel='MLP', ylabel='Actual'>"
      ]
     },
     "execution_count": 37,
     "metadata": {},
     "output_type": "execute_result"
    },
    {
     "data": {
      "image/png": "[encoded data removed]",
      "text/plain": [
       "<Figure size 432x288 with 1 Axes>"
      ]
     },
     "metadata": {
      "needs_background": "light"
     },
     "output_type": "display_data"
    }
   ],
   "source": [
    "results[[\"MLP\", \"Actual\"]].plot.scatter(x=\"MLP\", y =\"Actual\")"
   ]
  },
  {
   "cell_type": "markdown",
   "id": "e3fa18f6",
   "metadata": {},
   "source": [
    "## Conclusion"
   ]
  },
  {
   "cell_type": "markdown",
   "id": "bc1e2b8a",
   "metadata": {},
   "source": [
    "The OLS linear model has an R-square of 0.93, and after visualizing test data predictions, we see that this model is better than the MLP regression model for predicting the loan interest rate."
   ]
  },
  {
   "cell_type": "markdown",
   "id": "7a0a07eb",
   "metadata": {},
   "source": [
    "## Next steps"
   ]
  },
  {
   "cell_type": "markdown",
   "id": "1a11d7b6",
   "metadata": {},
   "source": [
    "* Expand feature set to include all features\n",
    "* Evaluate presence of feature correlation\n",
    "* Deep-dive into significance level and p-value of features in OLS model"
   ]
  },
  {
   "cell_type": "code",
   "execution_count": null,
   "id": "b94d5292",
   "metadata": {},
   "outputs": [],
   "source": []
  }
 ],
 "metadata": {
  "kernelspec": {
   "display_name": "Python 3",
   "language": "python",
   "name": "python3"
  },
  "language_info": {
   "codemirror_mode": {
    "name": "ipython",
    "version": 3
   },
   "file_extension": ".py",
   "mimetype": "text/x-python",
   "name": "python",
   "nbconvert_exporter": "python",
   "pygments_lexer": "ipython3",
   "version": "3.8.8"
  }
 },
 "nbformat": 4,
 "nbformat_minor": 5
}
