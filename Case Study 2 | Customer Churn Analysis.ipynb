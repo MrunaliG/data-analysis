{
 "cells": [
  {
   "cell_type": "markdown",
   "id": "925844fd",
   "metadata": {},
   "source": [
    "## Case Study 2: Customer Churn Analysis"
   ]
  },
  {
   "cell_type": "code",
   "execution_count": 1,
   "id": "07918fca",
   "metadata": {},
   "outputs": [],
   "source": [
    "import numpy as np\n",
    "import pandas as pd\n",
    "import matplotlib.pyplot as plt\n",
    "%matplotlib inline"
   ]
  },
  {
   "cell_type": "code",
   "execution_count": 2,
   "id": "7ce0b4d5",
   "metadata": {},
   "outputs": [
    {
     "data": {
      "text/html": [
       "<div>\n",
       "<style scoped>\n",
       "    .dataframe tbody tr th:only-of-type {\n",
       "        vertical-align: middle;\n",
       "    }\n",
       "\n",
       "    .dataframe tbody tr th {\n",
       "        vertical-align: top;\n",
       "    }\n",
       "\n",
       "    .dataframe thead th {\n",
       "        text-align: right;\n",
       "    }\n",
       "</style>\n",
       "<table border=\"1\" class=\"dataframe\">\n",
       "  <thead>\n",
       "    <tr style=\"text-align: right;\">\n",
       "      <th></th>\n",
       "      <th>customer_email</th>\n",
       "      <th>net_revenue</th>\n",
       "      <th>year</th>\n",
       "    </tr>\n",
       "  </thead>\n",
       "  <tbody>\n",
       "    <tr>\n",
       "      <th>0</th>\n",
       "      <td>nhknapwsbx@gmail.com</td>\n",
       "      <td>249.92</td>\n",
       "      <td>2015</td>\n",
       "    </tr>\n",
       "    <tr>\n",
       "      <th>1</th>\n",
       "      <td>joiuzbvcpn@gmail.com</td>\n",
       "      <td>87.61</td>\n",
       "      <td>2015</td>\n",
       "    </tr>\n",
       "    <tr>\n",
       "      <th>2</th>\n",
       "      <td>ukkjctepxt@gmail.com</td>\n",
       "      <td>168.38</td>\n",
       "      <td>2015</td>\n",
       "    </tr>\n",
       "    <tr>\n",
       "      <th>3</th>\n",
       "      <td>gykatilzrt@gmail.com</td>\n",
       "      <td>62.40</td>\n",
       "      <td>2015</td>\n",
       "    </tr>\n",
       "    <tr>\n",
       "      <th>4</th>\n",
       "      <td>mmsgsrtxah@gmail.com</td>\n",
       "      <td>43.08</td>\n",
       "      <td>2015</td>\n",
       "    </tr>\n",
       "  </tbody>\n",
       "</table>\n",
       "</div>"
      ],
      "text/plain": [
       "          customer_email  net_revenue  year\n",
       "0   nhknapwsbx@gmail.com       249.92  2015\n",
       "1   joiuzbvcpn@gmail.com        87.61  2015\n",
       "2   ukkjctepxt@gmail.com       168.38  2015\n",
       "3   gykatilzrt@gmail.com        62.40  2015\n",
       "4   mmsgsrtxah@gmail.com        43.08  2015"
      ]
     },
     "execution_count": 2,
     "metadata": {},
     "output_type": "execute_result"
    }
   ],
   "source": [
    "data = pd.read_csv(\"casestudy.csv\", index_col=0)\n",
    "\n",
    "data.head()"
   ]
  },
  {
   "cell_type": "markdown",
   "id": "34f2302d",
   "metadata": {},
   "source": [
    "We assume that revenue is in USD for further calculations"
   ]
  },
  {
   "cell_type": "code",
   "execution_count": 3,
   "id": "635e9d57",
   "metadata": {},
   "outputs": [
    {
     "name": "stdout",
     "output_type": "stream",
     "text": [
      "<class 'pandas.core.frame.DataFrame'>\n",
      "Int64Index: 685927 entries, 0 to 685926\n",
      "Data columns (total 3 columns):\n",
      " #   Column          Non-Null Count   Dtype  \n",
      "---  ------          --------------   -----  \n",
      " 0   customer_email  685927 non-null  object \n",
      " 1   net_revenue     685927 non-null  float64\n",
      " 2   year            685927 non-null  int64  \n",
      "dtypes: float64(1), int64(1), object(1)\n",
      "memory usage: 20.9+ MB\n"
     ]
    }
   ],
   "source": [
    "data.info()"
   ]
  },
  {
   "cell_type": "markdown",
   "id": "0e0456b7",
   "metadata": {},
   "source": [
    "**1. Total Revenue per year:**"
   ]
  },
  {
   "cell_type": "code",
   "execution_count": 4,
   "id": "53092ded",
   "metadata": {},
   "outputs": [
    {
     "data": {
      "text/html": [
       "<div>\n",
       "<style scoped>\n",
       "    .dataframe tbody tr th:only-of-type {\n",
       "        vertical-align: middle;\n",
       "    }\n",
       "\n",
       "    .dataframe tbody tr th {\n",
       "        vertical-align: top;\n",
       "    }\n",
       "\n",
       "    .dataframe thead th {\n",
       "        text-align: right;\n",
       "    }\n",
       "</style>\n",
       "<table border=\"1\" class=\"dataframe\">\n",
       "  <thead>\n",
       "    <tr style=\"text-align: right;\">\n",
       "      <th></th>\n",
       "      <th>year</th>\n",
       "      <th>net_revenue</th>\n",
       "    </tr>\n",
       "  </thead>\n",
       "  <tbody>\n",
       "    <tr>\n",
       "      <th>0</th>\n",
       "      <td>2015</td>\n",
       "      <td>29036749.19</td>\n",
       "    </tr>\n",
       "    <tr>\n",
       "      <th>1</th>\n",
       "      <td>2016</td>\n",
       "      <td>25730943.59</td>\n",
       "    </tr>\n",
       "    <tr>\n",
       "      <th>2</th>\n",
       "      <td>2017</td>\n",
       "      <td>31417495.03</td>\n",
       "    </tr>\n",
       "  </tbody>\n",
       "</table>\n",
       "</div>"
      ],
      "text/plain": [
       "   year  net_revenue\n",
       "0  2015  29036749.19\n",
       "1  2016  25730943.59\n",
       "2  2017  31417495.03"
      ]
     },
     "execution_count": 4,
     "metadata": {},
     "output_type": "execute_result"
    }
   ],
   "source": [
    "total_revenue = data.groupby(by=\"year\").sum()\n",
    "total_revenue.reset_index()"
   ]
  },
  {
   "cell_type": "markdown",
   "id": "9f961a99",
   "metadata": {},
   "source": [
    "We format the total revenue in Million USD for better readability as shown below"
   ]
  },
  {
   "cell_type": "code",
   "execution_count": 5,
   "id": "c6818d85",
   "metadata": {},
   "outputs": [
    {
     "data": {
      "text/html": [
       "<div>\n",
       "<style scoped>\n",
       "    .dataframe tbody tr th:only-of-type {\n",
       "        vertical-align: middle;\n",
       "    }\n",
       "\n",
       "    .dataframe tbody tr th {\n",
       "        vertical-align: top;\n",
       "    }\n",
       "\n",
       "    .dataframe thead th {\n",
       "        text-align: right;\n",
       "    }\n",
       "</style>\n",
       "<table border=\"1\" class=\"dataframe\">\n",
       "  <thead>\n",
       "    <tr style=\"text-align: right;\">\n",
       "      <th></th>\n",
       "      <th>year</th>\n",
       "      <th>net_revenue ($M)</th>\n",
       "    </tr>\n",
       "  </thead>\n",
       "  <tbody>\n",
       "    <tr>\n",
       "      <th>0</th>\n",
       "      <td>2015</td>\n",
       "      <td>29.04</td>\n",
       "    </tr>\n",
       "    <tr>\n",
       "      <th>1</th>\n",
       "      <td>2016</td>\n",
       "      <td>25.73</td>\n",
       "    </tr>\n",
       "    <tr>\n",
       "      <th>2</th>\n",
       "      <td>2017</td>\n",
       "      <td>31.42</td>\n",
       "    </tr>\n",
       "  </tbody>\n",
       "</table>\n",
       "</div>"
      ],
      "text/plain": [
       "   year  net_revenue ($M)\n",
       "0  2015             29.04\n",
       "1  2016             25.73\n",
       "2  2017             31.42"
      ]
     },
     "execution_count": 5,
     "metadata": {},
     "output_type": "execute_result"
    }
   ],
   "source": [
    "total_rev_M = round(total_revenue/1e6, 2)\n",
    "total_rev_M.columns=[\"net_revenue ($M)\"]\n",
    "total_rev_M.reset_index()"
   ]
  },
  {
   "cell_type": "markdown",
   "id": "0a86b26a",
   "metadata": {},
   "source": [
    "**2. New Customer Revenue e.g. new customers not present in previous year only**"
   ]
  },
  {
   "cell_type": "code",
   "execution_count": 6,
   "id": "0ee7977b",
   "metadata": {},
   "outputs": [
    {
     "data": {
      "text/html": [
       "<div>\n",
       "<style scoped>\n",
       "    .dataframe tbody tr th:only-of-type {\n",
       "        vertical-align: middle;\n",
       "    }\n",
       "\n",
       "    .dataframe tbody tr th {\n",
       "        vertical-align: top;\n",
       "    }\n",
       "\n",
       "    .dataframe thead th {\n",
       "        text-align: right;\n",
       "    }\n",
       "</style>\n",
       "<table border=\"1\" class=\"dataframe\">\n",
       "  <thead>\n",
       "    <tr style=\"text-align: right;\">\n",
       "      <th></th>\n",
       "      <th>customer_email</th>\n",
       "      <th>2015</th>\n",
       "      <th>2016</th>\n",
       "      <th>2017</th>\n",
       "    </tr>\n",
       "  </thead>\n",
       "  <tbody>\n",
       "    <tr>\n",
       "      <th>0</th>\n",
       "      <td>aaafxtkgxo@gmail.com</td>\n",
       "      <td>NaN</td>\n",
       "      <td>127.62</td>\n",
       "      <td>NaN</td>\n",
       "    </tr>\n",
       "    <tr>\n",
       "      <th>1</th>\n",
       "      <td>aaagldjgdt@gmail.com</td>\n",
       "      <td>44.72</td>\n",
       "      <td>NaN</td>\n",
       "      <td>NaN</td>\n",
       "    </tr>\n",
       "    <tr>\n",
       "      <th>2</th>\n",
       "      <td>aaaglfuvti@gmail.com</td>\n",
       "      <td>NaN</td>\n",
       "      <td>160.79</td>\n",
       "      <td>NaN</td>\n",
       "    </tr>\n",
       "    <tr>\n",
       "      <th>3</th>\n",
       "      <td>aaaicvtnzx@gmail.com</td>\n",
       "      <td>49.20</td>\n",
       "      <td>NaN</td>\n",
       "      <td>NaN</td>\n",
       "    </tr>\n",
       "    <tr>\n",
       "      <th>4</th>\n",
       "      <td>aaaiekepot@gmail.com</td>\n",
       "      <td>NaN</td>\n",
       "      <td>NaN</td>\n",
       "      <td>43.68</td>\n",
       "    </tr>\n",
       "  </tbody>\n",
       "</table>\n",
       "</div>"
      ],
      "text/plain": [
       "          customer_email   2015    2016   2017\n",
       "0   aaafxtkgxo@gmail.com    NaN  127.62    NaN\n",
       "1   aaagldjgdt@gmail.com  44.72     NaN    NaN\n",
       "2   aaaglfuvti@gmail.com    NaN  160.79    NaN\n",
       "3   aaaicvtnzx@gmail.com  49.20     NaN    NaN\n",
       "4   aaaiekepot@gmail.com    NaN     NaN  43.68"
      ]
     },
     "execution_count": 6,
     "metadata": {},
     "output_type": "execute_result"
    }
   ],
   "source": [
    "customer_year_pivot = data.pivot(index=\"customer_email\", columns=\"year\")\n",
    "customer_year_pivot.columns = customer_year_pivot.columns.get_level_values(1).to_list()\n",
    "customer_year_pivot = customer_year_pivot.reset_index()\n",
    "customer_year_pivot.head()"
   ]
  },
  {
   "cell_type": "code",
   "execution_count": 7,
   "id": "1534a8dd",
   "metadata": {},
   "outputs": [
    {
     "data": {
      "text/html": [
       "<div>\n",
       "<style scoped>\n",
       "    .dataframe tbody tr th:only-of-type {\n",
       "        vertical-align: middle;\n",
       "    }\n",
       "\n",
       "    .dataframe tbody tr th {\n",
       "        vertical-align: top;\n",
       "    }\n",
       "\n",
       "    .dataframe thead th {\n",
       "        text-align: right;\n",
       "    }\n",
       "</style>\n",
       "<table border=\"1\" class=\"dataframe\">\n",
       "  <thead>\n",
       "    <tr style=\"text-align: right;\">\n",
       "      <th></th>\n",
       "      <th>customer_email</th>\n",
       "      <th>2015</th>\n",
       "      <th>2016</th>\n",
       "      <th>2017</th>\n",
       "    </tr>\n",
       "  </thead>\n",
       "  <tbody>\n",
       "    <tr>\n",
       "      <th>0</th>\n",
       "      <td>aaafxtkgxo@gmail.com</td>\n",
       "      <td>NaN</td>\n",
       "      <td>127.62</td>\n",
       "      <td>NaN</td>\n",
       "    </tr>\n",
       "    <tr>\n",
       "      <th>1</th>\n",
       "      <td>aaagldjgdt@gmail.com</td>\n",
       "      <td>44.72</td>\n",
       "      <td>NaN</td>\n",
       "      <td>NaN</td>\n",
       "    </tr>\n",
       "    <tr>\n",
       "      <th>2</th>\n",
       "      <td>aaaglfuvti@gmail.com</td>\n",
       "      <td>NaN</td>\n",
       "      <td>160.79</td>\n",
       "      <td>NaN</td>\n",
       "    </tr>\n",
       "    <tr>\n",
       "      <th>3</th>\n",
       "      <td>aaaicvtnzx@gmail.com</td>\n",
       "      <td>49.20</td>\n",
       "      <td>NaN</td>\n",
       "      <td>NaN</td>\n",
       "    </tr>\n",
       "    <tr>\n",
       "      <th>4</th>\n",
       "      <td>aaaiekepot@gmail.com</td>\n",
       "      <td>NaN</td>\n",
       "      <td>NaN</td>\n",
       "      <td>43.68</td>\n",
       "    </tr>\n",
       "  </tbody>\n",
       "</table>\n",
       "</div>"
      ],
      "text/plain": [
       "          customer_email   2015    2016   2017\n",
       "0   aaafxtkgxo@gmail.com    NaN  127.62    NaN\n",
       "1   aaagldjgdt@gmail.com  44.72     NaN    NaN\n",
       "2   aaaglfuvti@gmail.com    NaN  160.79    NaN\n",
       "3   aaaicvtnzx@gmail.com  49.20     NaN    NaN\n",
       "4   aaaiekepot@gmail.com    NaN     NaN  43.68"
      ]
     },
     "execution_count": 7,
     "metadata": {},
     "output_type": "execute_result"
    }
   ],
   "source": [
    "new_customers = customer_year_pivot.copy()\n",
    "new_customers.loc[(new_customers[2015].notna()) & (new_customers[2016].notna()),[2016, 2017]] = np.NaN\n",
    "new_customers.loc[(new_customers[2016].notna()) & (new_customers[2017].notna()),[2017]] = np.NaN\n",
    "\n",
    "new_customers.head()"
   ]
  },
  {
   "cell_type": "markdown",
   "id": "34a01610",
   "metadata": {},
   "source": [
    "Yearly revenue due to new customers is given below:"
   ]
  },
  {
   "cell_type": "code",
   "execution_count": 8,
   "id": "07cbb77b",
   "metadata": {},
   "outputs": [
    {
     "data": {
      "text/html": [
       "<div>\n",
       "<style scoped>\n",
       "    .dataframe tbody tr th:only-of-type {\n",
       "        vertical-align: middle;\n",
       "    }\n",
       "\n",
       "    .dataframe tbody tr th {\n",
       "        vertical-align: top;\n",
       "    }\n",
       "\n",
       "    .dataframe thead th {\n",
       "        text-align: right;\n",
       "    }\n",
       "</style>\n",
       "<table border=\"1\" class=\"dataframe\">\n",
       "  <thead>\n",
       "    <tr style=\"text-align: right;\">\n",
       "      <th></th>\n",
       "      <th>Revenue</th>\n",
       "    </tr>\n",
       "  </thead>\n",
       "  <tbody>\n",
       "    <tr>\n",
       "      <th>2015</th>\n",
       "      <td>29036749.19</td>\n",
       "    </tr>\n",
       "    <tr>\n",
       "      <th>2016</th>\n",
       "      <td>18245491.01</td>\n",
       "    </tr>\n",
       "    <tr>\n",
       "      <th>2017</th>\n",
       "      <td>28776235.04</td>\n",
       "    </tr>\n",
       "  </tbody>\n",
       "</table>\n",
       "</div>"
      ],
      "text/plain": [
       "          Revenue\n",
       "2015  29036749.19\n",
       "2016  18245491.01\n",
       "2017  28776235.04"
      ]
     },
     "execution_count": 8,
     "metadata": {},
     "output_type": "execute_result"
    }
   ],
   "source": [
    "new_cust_rev = new_customers.sum(numeric_only=True, skipna=True, axis=0).to_frame(name=\"Revenue\")\n",
    "new_cust_rev"
   ]
  },
  {
   "cell_type": "markdown",
   "id": "7487bd32",
   "metadata": {},
   "source": [
    "We convert it to Million USD for better readability."
   ]
  },
  {
   "cell_type": "code",
   "execution_count": 9,
   "id": "ddac1228",
   "metadata": {},
   "outputs": [
    {
     "data": {
      "text/html": [
       "<div>\n",
       "<style scoped>\n",
       "    .dataframe tbody tr th:only-of-type {\n",
       "        vertical-align: middle;\n",
       "    }\n",
       "\n",
       "    .dataframe tbody tr th {\n",
       "        vertical-align: top;\n",
       "    }\n",
       "\n",
       "    .dataframe thead th {\n",
       "        text-align: right;\n",
       "    }\n",
       "</style>\n",
       "<table border=\"1\" class=\"dataframe\">\n",
       "  <thead>\n",
       "    <tr style=\"text-align: right;\">\n",
       "      <th></th>\n",
       "      <th>Revenue ($M)</th>\n",
       "    </tr>\n",
       "  </thead>\n",
       "  <tbody>\n",
       "    <tr>\n",
       "      <th>2015</th>\n",
       "      <td>29.04</td>\n",
       "    </tr>\n",
       "    <tr>\n",
       "      <th>2016</th>\n",
       "      <td>18.25</td>\n",
       "    </tr>\n",
       "    <tr>\n",
       "      <th>2017</th>\n",
       "      <td>28.78</td>\n",
       "    </tr>\n",
       "  </tbody>\n",
       "</table>\n",
       "</div>"
      ],
      "text/plain": [
       "      Revenue ($M)\n",
       "2015         29.04\n",
       "2016         18.25\n",
       "2017         28.78"
      ]
     },
     "execution_count": 9,
     "metadata": {},
     "output_type": "execute_result"
    }
   ],
   "source": [
    "new_cust_rev_M = round(new_cust_rev/1e6, 2)\n",
    "new_cust_rev_M.columns = [\"Revenue ($M)\"]\n",
    "new_cust_rev_M"
   ]
  },
  {
   "cell_type": "markdown",
   "id": "47c61f7f",
   "metadata": {},
   "source": [
    "**3. Existing Customer Growth**\n",
    "\n",
    "To calculate this, use the Revenue of existing customers for current year –(minus) Revenue of existing customers from the previous year"
   ]
  },
  {
   "cell_type": "code",
   "execution_count": 10,
   "id": "239ee089",
   "metadata": {},
   "outputs": [
    {
     "data": {
      "text/html": [
       "<div>\n",
       "<style scoped>\n",
       "    .dataframe tbody tr th:only-of-type {\n",
       "        vertical-align: middle;\n",
       "    }\n",
       "\n",
       "    .dataframe tbody tr th {\n",
       "        vertical-align: top;\n",
       "    }\n",
       "\n",
       "    .dataframe thead th {\n",
       "        text-align: right;\n",
       "    }\n",
       "</style>\n",
       "<table border=\"1\" class=\"dataframe\">\n",
       "  <thead>\n",
       "    <tr style=\"text-align: right;\">\n",
       "      <th></th>\n",
       "      <th>customer_email</th>\n",
       "      <th>2015</th>\n",
       "      <th>2016</th>\n",
       "      <th>2017</th>\n",
       "      <th>growth_rev_15_16</th>\n",
       "      <th>growth_rev_16_17</th>\n",
       "    </tr>\n",
       "  </thead>\n",
       "  <tbody>\n",
       "    <tr>\n",
       "      <th>0</th>\n",
       "      <td>aaafxtkgxo@gmail.com</td>\n",
       "      <td>NaN</td>\n",
       "      <td>127.62</td>\n",
       "      <td>NaN</td>\n",
       "      <td>NaN</td>\n",
       "      <td>NaN</td>\n",
       "    </tr>\n",
       "    <tr>\n",
       "      <th>1</th>\n",
       "      <td>aaagldjgdt@gmail.com</td>\n",
       "      <td>44.72</td>\n",
       "      <td>NaN</td>\n",
       "      <td>NaN</td>\n",
       "      <td>NaN</td>\n",
       "      <td>NaN</td>\n",
       "    </tr>\n",
       "    <tr>\n",
       "      <th>2</th>\n",
       "      <td>aaaglfuvti@gmail.com</td>\n",
       "      <td>NaN</td>\n",
       "      <td>160.79</td>\n",
       "      <td>NaN</td>\n",
       "      <td>NaN</td>\n",
       "      <td>NaN</td>\n",
       "    </tr>\n",
       "    <tr>\n",
       "      <th>3</th>\n",
       "      <td>aaaicvtnzx@gmail.com</td>\n",
       "      <td>49.20</td>\n",
       "      <td>NaN</td>\n",
       "      <td>NaN</td>\n",
       "      <td>NaN</td>\n",
       "      <td>NaN</td>\n",
       "    </tr>\n",
       "    <tr>\n",
       "      <th>4</th>\n",
       "      <td>aaaiekepot@gmail.com</td>\n",
       "      <td>NaN</td>\n",
       "      <td>NaN</td>\n",
       "      <td>43.68</td>\n",
       "      <td>NaN</td>\n",
       "      <td>NaN</td>\n",
       "    </tr>\n",
       "  </tbody>\n",
       "</table>\n",
       "</div>"
      ],
      "text/plain": [
       "          customer_email   2015    2016   2017  growth_rev_15_16  \\\n",
       "0   aaafxtkgxo@gmail.com    NaN  127.62    NaN               NaN   \n",
       "1   aaagldjgdt@gmail.com  44.72     NaN    NaN               NaN   \n",
       "2   aaaglfuvti@gmail.com    NaN  160.79    NaN               NaN   \n",
       "3   aaaicvtnzx@gmail.com  49.20     NaN    NaN               NaN   \n",
       "4   aaaiekepot@gmail.com    NaN     NaN  43.68               NaN   \n",
       "\n",
       "   growth_rev_16_17  \n",
       "0               NaN  \n",
       "1               NaN  \n",
       "2               NaN  \n",
       "3               NaN  \n",
       "4               NaN  "
      ]
     },
     "execution_count": 10,
     "metadata": {},
     "output_type": "execute_result"
    }
   ],
   "source": [
    "customer_year_pivot[\"growth_rev_15_16\"] = np.where(customer_year_pivot[2015].notna() & \n",
    "                                              customer_year_pivot[2016].notna(), \n",
    "                                               customer_year_pivot[2016]-customer_year_pivot[2015], np.NaN)\n",
    "\n",
    "customer_year_pivot[\"growth_rev_16_17\"] = np.where(customer_year_pivot[2016].notna() & \n",
    "                                              customer_year_pivot[2017].notna(), \n",
    "                                              customer_year_pivot[2017]-customer_year_pivot[2016], np.NaN)\n",
    "customer_year_pivot.head()"
   ]
  },
  {
   "cell_type": "code",
   "execution_count": 11,
   "id": "7f7eba42",
   "metadata": {},
   "outputs": [
    {
     "data": {
      "text/html": [
       "<div>\n",
       "<style scoped>\n",
       "    .dataframe tbody tr th:only-of-type {\n",
       "        vertical-align: middle;\n",
       "    }\n",
       "\n",
       "    .dataframe tbody tr th {\n",
       "        vertical-align: top;\n",
       "    }\n",
       "\n",
       "    .dataframe thead th {\n",
       "        text-align: right;\n",
       "    }\n",
       "</style>\n",
       "<table border=\"1\" class=\"dataframe\">\n",
       "  <thead>\n",
       "    <tr style=\"text-align: right;\">\n",
       "      <th></th>\n",
       "      <th>Revenue</th>\n",
       "    </tr>\n",
       "  </thead>\n",
       "  <tbody>\n",
       "    <tr>\n",
       "      <th>growth_rev_15_16</th>\n",
       "      <td>20335.46</td>\n",
       "    </tr>\n",
       "    <tr>\n",
       "      <th>growth_rev_16_17</th>\n",
       "      <td>20611.34</td>\n",
       "    </tr>\n",
       "  </tbody>\n",
       "</table>\n",
       "</div>"
      ],
      "text/plain": [
       "                   Revenue\n",
       "growth_rev_15_16  20335.46\n",
       "growth_rev_16_17  20611.34"
      ]
     },
     "execution_count": 11,
     "metadata": {},
     "output_type": "execute_result"
    }
   ],
   "source": [
    "rev_growth = customer_year_pivot[[\"growth_rev_15_16\", \"growth_rev_16_17\"]].sum().to_frame(name=\"Revenue\")\n",
    "rev_growth"
   ]
  },
  {
   "cell_type": "markdown",
   "id": "fd79e6ae",
   "metadata": {},
   "source": [
    "Total revenue growth of existing customers is given below in $M:"
   ]
  },
  {
   "cell_type": "code",
   "execution_count": 12,
   "id": "a3c163bf",
   "metadata": {},
   "outputs": [
    {
     "data": {
      "text/html": [
       "<div>\n",
       "<style scoped>\n",
       "    .dataframe tbody tr th:only-of-type {\n",
       "        vertical-align: middle;\n",
       "    }\n",
       "\n",
       "    .dataframe tbody tr th {\n",
       "        vertical-align: top;\n",
       "    }\n",
       "\n",
       "    .dataframe thead th {\n",
       "        text-align: right;\n",
       "    }\n",
       "</style>\n",
       "<table border=\"1\" class=\"dataframe\">\n",
       "  <thead>\n",
       "    <tr style=\"text-align: right;\">\n",
       "      <th></th>\n",
       "      <th>revenue ($M)</th>\n",
       "    </tr>\n",
       "  </thead>\n",
       "  <tbody>\n",
       "    <tr>\n",
       "      <th>growth_rev_15_16</th>\n",
       "      <td>0.02</td>\n",
       "    </tr>\n",
       "    <tr>\n",
       "      <th>growth_rev_16_17</th>\n",
       "      <td>0.02</td>\n",
       "    </tr>\n",
       "  </tbody>\n",
       "</table>\n",
       "</div>"
      ],
      "text/plain": [
       "                  revenue ($M)\n",
       "growth_rev_15_16          0.02\n",
       "growth_rev_16_17          0.02"
      ]
     },
     "execution_count": 12,
     "metadata": {},
     "output_type": "execute_result"
    }
   ],
   "source": [
    "rev_growth_M = round(rev_growth.sum(numeric_only=True, axis=1)/1e6, 2).to_frame(name=\"revenue ($M)\")\n",
    "rev_growth_M"
   ]
  },
  {
   "cell_type": "markdown",
   "id": "1dfc8005",
   "metadata": {},
   "source": [
    "**4. Revenue lost from attrition/Churn**"
   ]
  },
  {
   "cell_type": "code",
   "execution_count": 13,
   "id": "7c6962b1",
   "metadata": {},
   "outputs": [
    {
     "data": {
      "text/html": [
       "<div>\n",
       "<style scoped>\n",
       "    .dataframe tbody tr th:only-of-type {\n",
       "        vertical-align: middle;\n",
       "    }\n",
       "\n",
       "    .dataframe tbody tr th {\n",
       "        vertical-align: top;\n",
       "    }\n",
       "\n",
       "    .dataframe thead th {\n",
       "        text-align: right;\n",
       "    }\n",
       "</style>\n",
       "<table border=\"1\" class=\"dataframe\">\n",
       "  <thead>\n",
       "    <tr style=\"text-align: right;\">\n",
       "      <th></th>\n",
       "      <th>customer_email</th>\n",
       "      <th>2015</th>\n",
       "      <th>2016</th>\n",
       "      <th>2017</th>\n",
       "      <th>growth_rev_15_16</th>\n",
       "      <th>growth_rev_16_17</th>\n",
       "      <th>lost_rev_2016</th>\n",
       "      <th>lost_rev_2017</th>\n",
       "    </tr>\n",
       "  </thead>\n",
       "  <tbody>\n",
       "    <tr>\n",
       "      <th>0</th>\n",
       "      <td>aaafxtkgxo@gmail.com</td>\n",
       "      <td>NaN</td>\n",
       "      <td>127.62</td>\n",
       "      <td>NaN</td>\n",
       "      <td>NaN</td>\n",
       "      <td>NaN</td>\n",
       "      <td>NaN</td>\n",
       "      <td>127.62</td>\n",
       "    </tr>\n",
       "    <tr>\n",
       "      <th>1</th>\n",
       "      <td>aaagldjgdt@gmail.com</td>\n",
       "      <td>44.72</td>\n",
       "      <td>NaN</td>\n",
       "      <td>NaN</td>\n",
       "      <td>NaN</td>\n",
       "      <td>NaN</td>\n",
       "      <td>44.72</td>\n",
       "      <td>NaN</td>\n",
       "    </tr>\n",
       "    <tr>\n",
       "      <th>2</th>\n",
       "      <td>aaaglfuvti@gmail.com</td>\n",
       "      <td>NaN</td>\n",
       "      <td>160.79</td>\n",
       "      <td>NaN</td>\n",
       "      <td>NaN</td>\n",
       "      <td>NaN</td>\n",
       "      <td>NaN</td>\n",
       "      <td>160.79</td>\n",
       "    </tr>\n",
       "    <tr>\n",
       "      <th>3</th>\n",
       "      <td>aaaicvtnzx@gmail.com</td>\n",
       "      <td>49.20</td>\n",
       "      <td>NaN</td>\n",
       "      <td>NaN</td>\n",
       "      <td>NaN</td>\n",
       "      <td>NaN</td>\n",
       "      <td>49.20</td>\n",
       "      <td>NaN</td>\n",
       "    </tr>\n",
       "    <tr>\n",
       "      <th>4</th>\n",
       "      <td>aaaiekepot@gmail.com</td>\n",
       "      <td>NaN</td>\n",
       "      <td>NaN</td>\n",
       "      <td>43.68</td>\n",
       "      <td>NaN</td>\n",
       "      <td>NaN</td>\n",
       "      <td>NaN</td>\n",
       "      <td>NaN</td>\n",
       "    </tr>\n",
       "  </tbody>\n",
       "</table>\n",
       "</div>"
      ],
      "text/plain": [
       "          customer_email   2015    2016   2017  growth_rev_15_16  \\\n",
       "0   aaafxtkgxo@gmail.com    NaN  127.62    NaN               NaN   \n",
       "1   aaagldjgdt@gmail.com  44.72     NaN    NaN               NaN   \n",
       "2   aaaglfuvti@gmail.com    NaN  160.79    NaN               NaN   \n",
       "3   aaaicvtnzx@gmail.com  49.20     NaN    NaN               NaN   \n",
       "4   aaaiekepot@gmail.com    NaN     NaN  43.68               NaN   \n",
       "\n",
       "   growth_rev_16_17  lost_rev_2016  lost_rev_2017  \n",
       "0               NaN            NaN         127.62  \n",
       "1               NaN          44.72            NaN  \n",
       "2               NaN            NaN         160.79  \n",
       "3               NaN          49.20            NaN  \n",
       "4               NaN            NaN            NaN  "
      ]
     },
     "execution_count": 13,
     "metadata": {},
     "output_type": "execute_result"
    }
   ],
   "source": [
    "customer_year_pivot[\"lost_rev_2016\"] = np.where(customer_year_pivot[2015].notna() &\n",
    "                                                customer_year_pivot[2016].isna(), \n",
    "                                                customer_year_pivot[2015], np.NaN)\n",
    "\n",
    "customer_year_pivot[\"lost_rev_2017\"] = np.where(customer_year_pivot[2016].notna() &\n",
    "                                                customer_year_pivot[2017].isna(), \n",
    "                                                customer_year_pivot[2016], np.NaN)\n",
    "\n",
    "customer_year_pivot.head()"
   ]
  },
  {
   "cell_type": "code",
   "execution_count": 14,
   "id": "92c75312",
   "metadata": {},
   "outputs": [
    {
     "data": {
      "text/html": [
       "<div>\n",
       "<style scoped>\n",
       "    .dataframe tbody tr th:only-of-type {\n",
       "        vertical-align: middle;\n",
       "    }\n",
       "\n",
       "    .dataframe tbody tr th {\n",
       "        vertical-align: top;\n",
       "    }\n",
       "\n",
       "    .dataframe thead th {\n",
       "        text-align: right;\n",
       "    }\n",
       "</style>\n",
       "<table border=\"1\" class=\"dataframe\">\n",
       "  <thead>\n",
       "    <tr style=\"text-align: right;\">\n",
       "      <th></th>\n",
       "      <th>Revenue</th>\n",
       "    </tr>\n",
       "  </thead>\n",
       "  <tbody>\n",
       "    <tr>\n",
       "      <th>lost_rev_2016</th>\n",
       "      <td>21571632.07</td>\n",
       "    </tr>\n",
       "    <tr>\n",
       "      <th>lost_rev_2017</th>\n",
       "      <td>23110294.94</td>\n",
       "    </tr>\n",
       "  </tbody>\n",
       "</table>\n",
       "</div>"
      ],
      "text/plain": [
       "                   Revenue\n",
       "lost_rev_2016  21571632.07\n",
       "lost_rev_2017  23110294.94"
      ]
     },
     "execution_count": 14,
     "metadata": {},
     "output_type": "execute_result"
    }
   ],
   "source": [
    "attr_rev_lost = customer_year_pivot[[\"lost_rev_2016\", \"lost_rev_2017\"]].sum().to_frame(name=\"Revenue\")\n",
    "attr_rev_lost"
   ]
  },
  {
   "cell_type": "markdown",
   "id": "d963f42f",
   "metadata": {},
   "source": [
    "Total revenue lost due to attrition is given below in $M:"
   ]
  },
  {
   "cell_type": "code",
   "execution_count": 15,
   "id": "9175c6b0",
   "metadata": {},
   "outputs": [
    {
     "data": {
      "text/html": [
       "<div>\n",
       "<style scoped>\n",
       "    .dataframe tbody tr th:only-of-type {\n",
       "        vertical-align: middle;\n",
       "    }\n",
       "\n",
       "    .dataframe tbody tr th {\n",
       "        vertical-align: top;\n",
       "    }\n",
       "\n",
       "    .dataframe thead th {\n",
       "        text-align: right;\n",
       "    }\n",
       "</style>\n",
       "<table border=\"1\" class=\"dataframe\">\n",
       "  <thead>\n",
       "    <tr style=\"text-align: right;\">\n",
       "      <th></th>\n",
       "      <th>Revenue ($M)</th>\n",
       "    </tr>\n",
       "  </thead>\n",
       "  <tbody>\n",
       "    <tr>\n",
       "      <th>lost_rev_2016</th>\n",
       "      <td>21.57</td>\n",
       "    </tr>\n",
       "    <tr>\n",
       "      <th>lost_rev_2017</th>\n",
       "      <td>23.11</td>\n",
       "    </tr>\n",
       "  </tbody>\n",
       "</table>\n",
       "</div>"
      ],
      "text/plain": [
       "               Revenue ($M)\n",
       "lost_rev_2016         21.57\n",
       "lost_rev_2017         23.11"
      ]
     },
     "execution_count": 15,
     "metadata": {},
     "output_type": "execute_result"
    }
   ],
   "source": [
    "attrition_loss_M = round(attr_rev_lost.sum(axis=1)/1e6, 2).to_frame(name=\"Revenue ($M)\")\n",
    "attrition_loss_M"
   ]
  },
  {
   "cell_type": "markdown",
   "id": "cac444f9",
   "metadata": {},
   "source": [
    "**5. Existing Customer Revenue Current Year**\n",
    "\n",
    "We assume existing customers to be ones that are present in current year and at least previous year.\n",
    "Hence, we calculate this for the years 2016 and 2017 only. \n",
    "\n",
    "Note: For customer in all 3 years, we consider both cases:\n",
    "1. Current year = 2016, Prior year = 2015\n",
    "2. Current year = 2017, Prior year = 2016"
   ]
  },
  {
   "cell_type": "code",
   "execution_count": 16,
   "id": "9869f45d",
   "metadata": {},
   "outputs": [
    {
     "data": {
      "text/html": [
       "<div>\n",
       "<style scoped>\n",
       "    .dataframe tbody tr th:only-of-type {\n",
       "        vertical-align: middle;\n",
       "    }\n",
       "\n",
       "    .dataframe tbody tr th {\n",
       "        vertical-align: top;\n",
       "    }\n",
       "\n",
       "    .dataframe thead th {\n",
       "        text-align: right;\n",
       "    }\n",
       "</style>\n",
       "<table border=\"1\" class=\"dataframe\">\n",
       "  <thead>\n",
       "    <tr style=\"text-align: right;\">\n",
       "      <th></th>\n",
       "      <th>customer_email</th>\n",
       "      <th>2015</th>\n",
       "      <th>2016</th>\n",
       "      <th>2017</th>\n",
       "      <th>growth_rev_15_16</th>\n",
       "      <th>growth_rev_16_17</th>\n",
       "      <th>lost_rev_2016</th>\n",
       "      <th>lost_rev_2017</th>\n",
       "      <th>exist_curr_rev_2016</th>\n",
       "      <th>exist_curr_rev_2017</th>\n",
       "    </tr>\n",
       "  </thead>\n",
       "  <tbody>\n",
       "    <tr>\n",
       "      <th>0</th>\n",
       "      <td>aaafxtkgxo@gmail.com</td>\n",
       "      <td>NaN</td>\n",
       "      <td>127.62</td>\n",
       "      <td>NaN</td>\n",
       "      <td>NaN</td>\n",
       "      <td>NaN</td>\n",
       "      <td>NaN</td>\n",
       "      <td>127.62</td>\n",
       "      <td>NaN</td>\n",
       "      <td>NaN</td>\n",
       "    </tr>\n",
       "    <tr>\n",
       "      <th>1</th>\n",
       "      <td>aaagldjgdt@gmail.com</td>\n",
       "      <td>44.72</td>\n",
       "      <td>NaN</td>\n",
       "      <td>NaN</td>\n",
       "      <td>NaN</td>\n",
       "      <td>NaN</td>\n",
       "      <td>44.72</td>\n",
       "      <td>NaN</td>\n",
       "      <td>NaN</td>\n",
       "      <td>NaN</td>\n",
       "    </tr>\n",
       "    <tr>\n",
       "      <th>2</th>\n",
       "      <td>aaaglfuvti@gmail.com</td>\n",
       "      <td>NaN</td>\n",
       "      <td>160.79</td>\n",
       "      <td>NaN</td>\n",
       "      <td>NaN</td>\n",
       "      <td>NaN</td>\n",
       "      <td>NaN</td>\n",
       "      <td>160.79</td>\n",
       "      <td>NaN</td>\n",
       "      <td>NaN</td>\n",
       "    </tr>\n",
       "    <tr>\n",
       "      <th>3</th>\n",
       "      <td>aaaicvtnzx@gmail.com</td>\n",
       "      <td>49.20</td>\n",
       "      <td>NaN</td>\n",
       "      <td>NaN</td>\n",
       "      <td>NaN</td>\n",
       "      <td>NaN</td>\n",
       "      <td>49.20</td>\n",
       "      <td>NaN</td>\n",
       "      <td>NaN</td>\n",
       "      <td>NaN</td>\n",
       "    </tr>\n",
       "    <tr>\n",
       "      <th>4</th>\n",
       "      <td>aaaiekepot@gmail.com</td>\n",
       "      <td>NaN</td>\n",
       "      <td>NaN</td>\n",
       "      <td>43.68</td>\n",
       "      <td>NaN</td>\n",
       "      <td>NaN</td>\n",
       "      <td>NaN</td>\n",
       "      <td>NaN</td>\n",
       "      <td>NaN</td>\n",
       "      <td>NaN</td>\n",
       "    </tr>\n",
       "  </tbody>\n",
       "</table>\n",
       "</div>"
      ],
      "text/plain": [
       "          customer_email   2015    2016   2017  growth_rev_15_16  \\\n",
       "0   aaafxtkgxo@gmail.com    NaN  127.62    NaN               NaN   \n",
       "1   aaagldjgdt@gmail.com  44.72     NaN    NaN               NaN   \n",
       "2   aaaglfuvti@gmail.com    NaN  160.79    NaN               NaN   \n",
       "3   aaaicvtnzx@gmail.com  49.20     NaN    NaN               NaN   \n",
       "4   aaaiekepot@gmail.com    NaN     NaN  43.68               NaN   \n",
       "\n",
       "   growth_rev_16_17  lost_rev_2016  lost_rev_2017  exist_curr_rev_2016  \\\n",
       "0               NaN            NaN         127.62                  NaN   \n",
       "1               NaN          44.72            NaN                  NaN   \n",
       "2               NaN            NaN         160.79                  NaN   \n",
       "3               NaN          49.20            NaN                  NaN   \n",
       "4               NaN            NaN            NaN                  NaN   \n",
       "\n",
       "   exist_curr_rev_2017  \n",
       "0                  NaN  \n",
       "1                  NaN  \n",
       "2                  NaN  \n",
       "3                  NaN  \n",
       "4                  NaN  "
      ]
     },
     "execution_count": 16,
     "metadata": {},
     "output_type": "execute_result"
    }
   ],
   "source": [
    "customer_year_pivot[\"exist_curr_rev_2016\"] = np.where(customer_year_pivot[\"growth_rev_15_16\"].notna(),\n",
    "                                                customer_year_pivot[2016], np.NaN)\n",
    "\n",
    "customer_year_pivot[\"exist_curr_rev_2017\"] = np.where(customer_year_pivot[\"growth_rev_16_17\"].notna(),\n",
    "                                                customer_year_pivot[2017], np.NaN)\n",
    "\n",
    "customer_year_pivot.head()"
   ]
  },
  {
   "cell_type": "code",
   "execution_count": 17,
   "id": "b401f44c",
   "metadata": {},
   "outputs": [
    {
     "data": {
      "text/html": [
       "<div>\n",
       "<style scoped>\n",
       "    .dataframe tbody tr th:only-of-type {\n",
       "        vertical-align: middle;\n",
       "    }\n",
       "\n",
       "    .dataframe tbody tr th {\n",
       "        vertical-align: top;\n",
       "    }\n",
       "\n",
       "    .dataframe thead th {\n",
       "        text-align: right;\n",
       "    }\n",
       "</style>\n",
       "<table border=\"1\" class=\"dataframe\">\n",
       "  <thead>\n",
       "    <tr style=\"text-align: right;\">\n",
       "      <th></th>\n",
       "      <th>Revenue</th>\n",
       "    </tr>\n",
       "  </thead>\n",
       "  <tbody>\n",
       "    <tr>\n",
       "      <th>exist_curr_rev_2016</th>\n",
       "      <td>7485452.58</td>\n",
       "    </tr>\n",
       "    <tr>\n",
       "      <th>exist_curr_rev_2017</th>\n",
       "      <td>2641259.99</td>\n",
       "    </tr>\n",
       "  </tbody>\n",
       "</table>\n",
       "</div>"
      ],
      "text/plain": [
       "                        Revenue\n",
       "exist_curr_rev_2016  7485452.58\n",
       "exist_curr_rev_2017  2641259.99"
      ]
     },
     "execution_count": 17,
     "metadata": {},
     "output_type": "execute_result"
    }
   ],
   "source": [
    "existing_curr_cust = customer_year_pivot[[\"exist_curr_rev_2016\", \"exist_curr_rev_2017\"]].sum().to_frame(\"Revenue\")\n",
    "existing_curr_cust"
   ]
  },
  {
   "cell_type": "markdown",
   "id": "bffe64fc",
   "metadata": {},
   "source": [
    "Total existing customer revenue is given below in $M:"
   ]
  },
  {
   "cell_type": "code",
   "execution_count": 18,
   "id": "b9f2a7c1",
   "metadata": {},
   "outputs": [
    {
     "data": {
      "text/html": [
       "<div>\n",
       "<style scoped>\n",
       "    .dataframe tbody tr th:only-of-type {\n",
       "        vertical-align: middle;\n",
       "    }\n",
       "\n",
       "    .dataframe tbody tr th {\n",
       "        vertical-align: top;\n",
       "    }\n",
       "\n",
       "    .dataframe thead th {\n",
       "        text-align: right;\n",
       "    }\n",
       "</style>\n",
       "<table border=\"1\" class=\"dataframe\">\n",
       "  <thead>\n",
       "    <tr style=\"text-align: right;\">\n",
       "      <th></th>\n",
       "      <th>Revenue ($M)</th>\n",
       "    </tr>\n",
       "  </thead>\n",
       "  <tbody>\n",
       "    <tr>\n",
       "      <th>exist_curr_rev_2016</th>\n",
       "      <td>7.49</td>\n",
       "    </tr>\n",
       "    <tr>\n",
       "      <th>exist_curr_rev_2017</th>\n",
       "      <td>2.64</td>\n",
       "    </tr>\n",
       "  </tbody>\n",
       "</table>\n",
       "</div>"
      ],
      "text/plain": [
       "                     Revenue ($M)\n",
       "exist_curr_rev_2016          7.49\n",
       "exist_curr_rev_2017          2.64"
      ]
     },
     "execution_count": 18,
     "metadata": {},
     "output_type": "execute_result"
    }
   ],
   "source": [
    "curr_cust_rev = round(existing_curr_cust.sum(axis=1)/1e6, 2).to_frame(name=\"Revenue ($M)\")\n",
    "curr_cust_rev"
   ]
  },
  {
   "cell_type": "markdown",
   "id": "050a7afd",
   "metadata": {},
   "source": [
    "**6. Existing Customer Revenue Prior Year**"
   ]
  },
  {
   "cell_type": "code",
   "execution_count": 19,
   "id": "56ac976a",
   "metadata": {},
   "outputs": [
    {
     "data": {
      "text/html": [
       "<div>\n",
       "<style scoped>\n",
       "    .dataframe tbody tr th:only-of-type {\n",
       "        vertical-align: middle;\n",
       "    }\n",
       "\n",
       "    .dataframe tbody tr th {\n",
       "        vertical-align: top;\n",
       "    }\n",
       "\n",
       "    .dataframe thead th {\n",
       "        text-align: right;\n",
       "    }\n",
       "</style>\n",
       "<table border=\"1\" class=\"dataframe\">\n",
       "  <thead>\n",
       "    <tr style=\"text-align: right;\">\n",
       "      <th></th>\n",
       "      <th>customer_email</th>\n",
       "      <th>2015</th>\n",
       "      <th>2016</th>\n",
       "      <th>2017</th>\n",
       "      <th>growth_rev_15_16</th>\n",
       "      <th>growth_rev_16_17</th>\n",
       "      <th>lost_rev_2016</th>\n",
       "      <th>lost_rev_2017</th>\n",
       "      <th>exist_curr_rev_2016</th>\n",
       "      <th>exist_curr_rev_2017</th>\n",
       "      <th>exist_prior_rev_2016</th>\n",
       "      <th>exist_prior_rev_2017</th>\n",
       "    </tr>\n",
       "  </thead>\n",
       "  <tbody>\n",
       "    <tr>\n",
       "      <th>0</th>\n",
       "      <td>aaafxtkgxo@gmail.com</td>\n",
       "      <td>NaN</td>\n",
       "      <td>127.62</td>\n",
       "      <td>NaN</td>\n",
       "      <td>NaN</td>\n",
       "      <td>NaN</td>\n",
       "      <td>NaN</td>\n",
       "      <td>127.62</td>\n",
       "      <td>NaN</td>\n",
       "      <td>NaN</td>\n",
       "      <td>NaN</td>\n",
       "      <td>NaN</td>\n",
       "    </tr>\n",
       "    <tr>\n",
       "      <th>1</th>\n",
       "      <td>aaagldjgdt@gmail.com</td>\n",
       "      <td>44.72</td>\n",
       "      <td>NaN</td>\n",
       "      <td>NaN</td>\n",
       "      <td>NaN</td>\n",
       "      <td>NaN</td>\n",
       "      <td>44.72</td>\n",
       "      <td>NaN</td>\n",
       "      <td>NaN</td>\n",
       "      <td>NaN</td>\n",
       "      <td>NaN</td>\n",
       "      <td>NaN</td>\n",
       "    </tr>\n",
       "    <tr>\n",
       "      <th>2</th>\n",
       "      <td>aaaglfuvti@gmail.com</td>\n",
       "      <td>NaN</td>\n",
       "      <td>160.79</td>\n",
       "      <td>NaN</td>\n",
       "      <td>NaN</td>\n",
       "      <td>NaN</td>\n",
       "      <td>NaN</td>\n",
       "      <td>160.79</td>\n",
       "      <td>NaN</td>\n",
       "      <td>NaN</td>\n",
       "      <td>NaN</td>\n",
       "      <td>NaN</td>\n",
       "    </tr>\n",
       "    <tr>\n",
       "      <th>3</th>\n",
       "      <td>aaaicvtnzx@gmail.com</td>\n",
       "      <td>49.20</td>\n",
       "      <td>NaN</td>\n",
       "      <td>NaN</td>\n",
       "      <td>NaN</td>\n",
       "      <td>NaN</td>\n",
       "      <td>49.20</td>\n",
       "      <td>NaN</td>\n",
       "      <td>NaN</td>\n",
       "      <td>NaN</td>\n",
       "      <td>NaN</td>\n",
       "      <td>NaN</td>\n",
       "    </tr>\n",
       "    <tr>\n",
       "      <th>4</th>\n",
       "      <td>aaaiekepot@gmail.com</td>\n",
       "      <td>NaN</td>\n",
       "      <td>NaN</td>\n",
       "      <td>43.68</td>\n",
       "      <td>NaN</td>\n",
       "      <td>NaN</td>\n",
       "      <td>NaN</td>\n",
       "      <td>NaN</td>\n",
       "      <td>NaN</td>\n",
       "      <td>NaN</td>\n",
       "      <td>NaN</td>\n",
       "      <td>NaN</td>\n",
       "    </tr>\n",
       "  </tbody>\n",
       "</table>\n",
       "</div>"
      ],
      "text/plain": [
       "          customer_email   2015    2016   2017  growth_rev_15_16  \\\n",
       "0   aaafxtkgxo@gmail.com    NaN  127.62    NaN               NaN   \n",
       "1   aaagldjgdt@gmail.com  44.72     NaN    NaN               NaN   \n",
       "2   aaaglfuvti@gmail.com    NaN  160.79    NaN               NaN   \n",
       "3   aaaicvtnzx@gmail.com  49.20     NaN    NaN               NaN   \n",
       "4   aaaiekepot@gmail.com    NaN     NaN  43.68               NaN   \n",
       "\n",
       "   growth_rev_16_17  lost_rev_2016  lost_rev_2017  exist_curr_rev_2016  \\\n",
       "0               NaN            NaN         127.62                  NaN   \n",
       "1               NaN          44.72            NaN                  NaN   \n",
       "2               NaN            NaN         160.79                  NaN   \n",
       "3               NaN          49.20            NaN                  NaN   \n",
       "4               NaN            NaN            NaN                  NaN   \n",
       "\n",
       "   exist_curr_rev_2017  exist_prior_rev_2016  exist_prior_rev_2017  \n",
       "0                  NaN                   NaN                   NaN  \n",
       "1                  NaN                   NaN                   NaN  \n",
       "2                  NaN                   NaN                   NaN  \n",
       "3                  NaN                   NaN                   NaN  \n",
       "4                  NaN                   NaN                   NaN  "
      ]
     },
     "execution_count": 19,
     "metadata": {},
     "output_type": "execute_result"
    }
   ],
   "source": [
    "customer_year_pivot[\"exist_prior_rev_2016\"] = np.where(customer_year_pivot[\"growth_rev_15_16\"].notna(),\n",
    "                                                customer_year_pivot[2015], np.NaN)\n",
    "\n",
    "customer_year_pivot[\"exist_prior_rev_2017\"] = np.where(customer_year_pivot[\"growth_rev_16_17\"].notna(),\n",
    "                                                customer_year_pivot[2016], np.NaN)\n",
    "\n",
    "customer_year_pivot.head()"
   ]
  },
  {
   "cell_type": "code",
   "execution_count": 20,
   "id": "7fad617a",
   "metadata": {},
   "outputs": [
    {
     "data": {
      "text/html": [
       "<div>\n",
       "<style scoped>\n",
       "    .dataframe tbody tr th:only-of-type {\n",
       "        vertical-align: middle;\n",
       "    }\n",
       "\n",
       "    .dataframe tbody tr th {\n",
       "        vertical-align: top;\n",
       "    }\n",
       "\n",
       "    .dataframe thead th {\n",
       "        text-align: right;\n",
       "    }\n",
       "</style>\n",
       "<table border=\"1\" class=\"dataframe\">\n",
       "  <thead>\n",
       "    <tr style=\"text-align: right;\">\n",
       "      <th></th>\n",
       "      <th>Revenue</th>\n",
       "    </tr>\n",
       "  </thead>\n",
       "  <tbody>\n",
       "    <tr>\n",
       "      <th>exist_prior_rev_2016</th>\n",
       "      <td>7465117.12</td>\n",
       "    </tr>\n",
       "    <tr>\n",
       "      <th>exist_prior_rev_2017</th>\n",
       "      <td>2620648.65</td>\n",
       "    </tr>\n",
       "  </tbody>\n",
       "</table>\n",
       "</div>"
      ],
      "text/plain": [
       "                         Revenue\n",
       "exist_prior_rev_2016  7465117.12\n",
       "exist_prior_rev_2017  2620648.65"
      ]
     },
     "execution_count": 20,
     "metadata": {},
     "output_type": "execute_result"
    }
   ],
   "source": [
    "existing_prior_cust = customer_year_pivot[[\"exist_prior_rev_2016\", \"exist_prior_rev_2017\"]].sum().to_frame(\"Revenue\")\n",
    "existing_prior_cust"
   ]
  },
  {
   "cell_type": "markdown",
   "id": "e9ae5b5d",
   "metadata": {},
   "source": [
    "Total prior customer revenue is given below in $M:"
   ]
  },
  {
   "cell_type": "code",
   "execution_count": 21,
   "id": "97581f81",
   "metadata": {},
   "outputs": [
    {
     "data": {
      "text/html": [
       "<div>\n",
       "<style scoped>\n",
       "    .dataframe tbody tr th:only-of-type {\n",
       "        vertical-align: middle;\n",
       "    }\n",
       "\n",
       "    .dataframe tbody tr th {\n",
       "        vertical-align: top;\n",
       "    }\n",
       "\n",
       "    .dataframe thead th {\n",
       "        text-align: right;\n",
       "    }\n",
       "</style>\n",
       "<table border=\"1\" class=\"dataframe\">\n",
       "  <thead>\n",
       "    <tr style=\"text-align: right;\">\n",
       "      <th></th>\n",
       "      <th>Revenue ($M)</th>\n",
       "    </tr>\n",
       "  </thead>\n",
       "  <tbody>\n",
       "    <tr>\n",
       "      <th>exist_prior_rev_2016</th>\n",
       "      <td>7.47</td>\n",
       "    </tr>\n",
       "    <tr>\n",
       "      <th>exist_prior_rev_2017</th>\n",
       "      <td>2.62</td>\n",
       "    </tr>\n",
       "  </tbody>\n",
       "</table>\n",
       "</div>"
      ],
      "text/plain": [
       "                      Revenue ($M)\n",
       "exist_prior_rev_2016          7.47\n",
       "exist_prior_rev_2017          2.62"
      ]
     },
     "execution_count": 21,
     "metadata": {},
     "output_type": "execute_result"
    }
   ],
   "source": [
    "prior_cust_rev = round(existing_prior_cust.sum(axis=1)/1e6, 2).to_frame(name=\"Revenue ($M)\")\n",
    "prior_cust_rev"
   ]
  },
  {
   "cell_type": "markdown",
   "id": "90f9d222",
   "metadata": {},
   "source": [
    "**7. Total Customers Current Year**"
   ]
  },
  {
   "cell_type": "markdown",
   "id": "d6b67618",
   "metadata": {},
   "source": [
    "Total existing customers in current year:"
   ]
  },
  {
   "cell_type": "code",
   "execution_count": 22,
   "id": "cc672868",
   "metadata": {},
   "outputs": [
    {
     "data": {
      "text/html": [
       "<div>\n",
       "<style scoped>\n",
       "    .dataframe tbody tr th:only-of-type {\n",
       "        vertical-align: middle;\n",
       "    }\n",
       "\n",
       "    .dataframe tbody tr th {\n",
       "        vertical-align: top;\n",
       "    }\n",
       "\n",
       "    .dataframe thead th {\n",
       "        text-align: right;\n",
       "    }\n",
       "</style>\n",
       "<table border=\"1\" class=\"dataframe\">\n",
       "  <thead>\n",
       "    <tr style=\"text-align: right;\">\n",
       "      <th></th>\n",
       "      <th>Customers</th>\n",
       "    </tr>\n",
       "  </thead>\n",
       "  <tbody>\n",
       "    <tr>\n",
       "      <th>exist_curr_rev_2016</th>\n",
       "      <td>59584</td>\n",
       "    </tr>\n",
       "    <tr>\n",
       "      <th>exist_curr_rev_2017</th>\n",
       "      <td>20959</td>\n",
       "    </tr>\n",
       "  </tbody>\n",
       "</table>\n",
       "</div>"
      ],
      "text/plain": [
       "                     Customers\n",
       "exist_curr_rev_2016      59584\n",
       "exist_curr_rev_2017      20959"
      ]
     },
     "execution_count": 22,
     "metadata": {},
     "output_type": "execute_result"
    }
   ],
   "source": [
    "total_exist_curr_cust = customer_year_pivot[[\"exist_curr_rev_2016\", \"exist_curr_rev_2017\"]].count().to_frame(name=\"Customers\")\n",
    "total_exist_curr_cust"
   ]
  },
  {
   "cell_type": "markdown",
   "id": "7ae4beb3",
   "metadata": {},
   "source": [
    "Total customers in current year:"
   ]
  },
  {
   "cell_type": "code",
   "execution_count": 23,
   "id": "40d56b34",
   "metadata": {},
   "outputs": [
    {
     "data": {
      "text/html": [
       "<div>\n",
       "<style scoped>\n",
       "    .dataframe tbody tr th:only-of-type {\n",
       "        vertical-align: middle;\n",
       "    }\n",
       "\n",
       "    .dataframe tbody tr th {\n",
       "        vertical-align: top;\n",
       "    }\n",
       "\n",
       "    .dataframe thead th {\n",
       "        text-align: right;\n",
       "    }\n",
       "</style>\n",
       "<table border=\"1\" class=\"dataframe\">\n",
       "  <thead>\n",
       "    <tr style=\"text-align: right;\">\n",
       "      <th></th>\n",
       "      <th>Customers</th>\n",
       "    </tr>\n",
       "  </thead>\n",
       "  <tbody>\n",
       "    <tr>\n",
       "      <th>2016</th>\n",
       "      <td>204646</td>\n",
       "    </tr>\n",
       "    <tr>\n",
       "      <th>2017</th>\n",
       "      <td>249987</td>\n",
       "    </tr>\n",
       "  </tbody>\n",
       "</table>\n",
       "</div>"
      ],
      "text/plain": [
       "      Customers\n",
       "2016     204646\n",
       "2017     249987"
      ]
     },
     "execution_count": 23,
     "metadata": {},
     "output_type": "execute_result"
    }
   ],
   "source": [
    "total_curr_cust = customer_year_pivot[[2016, 2017]].count().to_frame(name=\"Customers\")\n",
    "total_curr_cust"
   ]
  },
  {
   "cell_type": "markdown",
   "id": "8ff109f1",
   "metadata": {},
   "source": [
    "**8. Total Customers Previous Year**"
   ]
  },
  {
   "cell_type": "markdown",
   "id": "f92dbfd9",
   "metadata": {},
   "source": [
    "Total existing customers in previous year:"
   ]
  },
  {
   "cell_type": "code",
   "execution_count": 24,
   "id": "b773113b",
   "metadata": {},
   "outputs": [
    {
     "data": {
      "text/html": [
       "<div>\n",
       "<style scoped>\n",
       "    .dataframe tbody tr th:only-of-type {\n",
       "        vertical-align: middle;\n",
       "    }\n",
       "\n",
       "    .dataframe tbody tr th {\n",
       "        vertical-align: top;\n",
       "    }\n",
       "\n",
       "    .dataframe thead th {\n",
       "        text-align: right;\n",
       "    }\n",
       "</style>\n",
       "<table border=\"1\" class=\"dataframe\">\n",
       "  <thead>\n",
       "    <tr style=\"text-align: right;\">\n",
       "      <th></th>\n",
       "      <th>Customers</th>\n",
       "    </tr>\n",
       "  </thead>\n",
       "  <tbody>\n",
       "    <tr>\n",
       "      <th>exist_prior_rev_2016</th>\n",
       "      <td>59584</td>\n",
       "    </tr>\n",
       "    <tr>\n",
       "      <th>exist_prior_rev_2017</th>\n",
       "      <td>20959</td>\n",
       "    </tr>\n",
       "  </tbody>\n",
       "</table>\n",
       "</div>"
      ],
      "text/plain": [
       "                      Customers\n",
       "exist_prior_rev_2016      59584\n",
       "exist_prior_rev_2017      20959"
      ]
     },
     "execution_count": 24,
     "metadata": {},
     "output_type": "execute_result"
    }
   ],
   "source": [
    "total_exist_prior_cust = customer_year_pivot[[\"exist_prior_rev_2016\", \"exist_prior_rev_2017\"]].count().to_frame(name=\"Customers\")\n",
    "total_exist_prior_cust"
   ]
  },
  {
   "cell_type": "markdown",
   "id": "43591444",
   "metadata": {},
   "source": [
    "Total customers in previous year:"
   ]
  },
  {
   "cell_type": "code",
   "execution_count": 25,
   "id": "1ca4fe87",
   "metadata": {},
   "outputs": [
    {
     "data": {
      "text/html": [
       "<div>\n",
       "<style scoped>\n",
       "    .dataframe tbody tr th:only-of-type {\n",
       "        vertical-align: middle;\n",
       "    }\n",
       "\n",
       "    .dataframe tbody tr th {\n",
       "        vertical-align: top;\n",
       "    }\n",
       "\n",
       "    .dataframe thead th {\n",
       "        text-align: right;\n",
       "    }\n",
       "</style>\n",
       "<table border=\"1\" class=\"dataframe\">\n",
       "  <thead>\n",
       "    <tr style=\"text-align: right;\">\n",
       "      <th></th>\n",
       "      <th>Customers</th>\n",
       "    </tr>\n",
       "  </thead>\n",
       "  <tbody>\n",
       "    <tr>\n",
       "      <th>2015</th>\n",
       "      <td>231294</td>\n",
       "    </tr>\n",
       "    <tr>\n",
       "      <th>2016</th>\n",
       "      <td>204646</td>\n",
       "    </tr>\n",
       "  </tbody>\n",
       "</table>\n",
       "</div>"
      ],
      "text/plain": [
       "      Customers\n",
       "2015     231294\n",
       "2016     204646"
      ]
     },
     "execution_count": 25,
     "metadata": {},
     "output_type": "execute_result"
    }
   ],
   "source": [
    "total_prior_cust = customer_year_pivot[[2015, 2016]].count().to_frame(name=\"Customers\")\n",
    "total_prior_cust"
   ]
  },
  {
   "cell_type": "markdown",
   "id": "13791f07",
   "metadata": {},
   "source": [
    "**9. New Customers**"
   ]
  },
  {
   "cell_type": "code",
   "execution_count": 26,
   "id": "8e1a43f9",
   "metadata": {},
   "outputs": [
    {
     "data": {
      "text/html": [
       "<div>\n",
       "<style scoped>\n",
       "    .dataframe tbody tr th:only-of-type {\n",
       "        vertical-align: middle;\n",
       "    }\n",
       "\n",
       "    .dataframe tbody tr th {\n",
       "        vertical-align: top;\n",
       "    }\n",
       "\n",
       "    .dataframe thead th {\n",
       "        text-align: right;\n",
       "    }\n",
       "</style>\n",
       "<table border=\"1\" class=\"dataframe\">\n",
       "  <thead>\n",
       "    <tr style=\"text-align: right;\">\n",
       "      <th></th>\n",
       "      <th>New Customers</th>\n",
       "    </tr>\n",
       "  </thead>\n",
       "  <tbody>\n",
       "    <tr>\n",
       "      <th>2015</th>\n",
       "      <td>231294</td>\n",
       "    </tr>\n",
       "    <tr>\n",
       "      <th>2016</th>\n",
       "      <td>145062</td>\n",
       "    </tr>\n",
       "    <tr>\n",
       "      <th>2017</th>\n",
       "      <td>229028</td>\n",
       "    </tr>\n",
       "  </tbody>\n",
       "</table>\n",
       "</div>"
      ],
      "text/plain": [
       "      New Customers\n",
       "2015         231294\n",
       "2016         145062\n",
       "2017         229028"
      ]
     },
     "execution_count": 26,
     "metadata": {},
     "output_type": "execute_result"
    }
   ],
   "source": [
    "total_new_customers = new_customers[[2015, 2016, 2017]].count().to_frame(name=\"New Customers\")\n",
    "total_new_customers"
   ]
  },
  {
   "cell_type": "markdown",
   "id": "8a5a8fd7",
   "metadata": {},
   "source": [
    "We show total new customers per year in million below:"
   ]
  },
  {
   "cell_type": "code",
   "execution_count": 27,
   "id": "b62aeaf9",
   "metadata": {},
   "outputs": [
    {
     "data": {
      "text/html": [
       "<div>\n",
       "<style scoped>\n",
       "    .dataframe tbody tr th:only-of-type {\n",
       "        vertical-align: middle;\n",
       "    }\n",
       "\n",
       "    .dataframe tbody tr th {\n",
       "        vertical-align: top;\n",
       "    }\n",
       "\n",
       "    .dataframe thead th {\n",
       "        text-align: right;\n",
       "    }\n",
       "</style>\n",
       "<table border=\"1\" class=\"dataframe\">\n",
       "  <thead>\n",
       "    <tr style=\"text-align: right;\">\n",
       "      <th></th>\n",
       "      <th>New Customers (in Millions)</th>\n",
       "    </tr>\n",
       "  </thead>\n",
       "  <tbody>\n",
       "    <tr>\n",
       "      <th>2015</th>\n",
       "      <td>0.23</td>\n",
       "    </tr>\n",
       "    <tr>\n",
       "      <th>2016</th>\n",
       "      <td>0.15</td>\n",
       "    </tr>\n",
       "    <tr>\n",
       "      <th>2017</th>\n",
       "      <td>0.23</td>\n",
       "    </tr>\n",
       "  </tbody>\n",
       "</table>\n",
       "</div>"
      ],
      "text/plain": [
       "      New Customers (in Millions)\n",
       "2015                         0.23\n",
       "2016                         0.15\n",
       "2017                         0.23"
      ]
     },
     "execution_count": 27,
     "metadata": {},
     "output_type": "execute_result"
    }
   ],
   "source": [
    "new_cust_M = round(total_new_customers/1e6, 2)\n",
    "new_cust_M.columns = [\"New Customers (in Millions)\"]\n",
    "new_cust_M"
   ]
  },
  {
   "cell_type": "markdown",
   "id": "ce802ab7",
   "metadata": {},
   "source": [
    "**10. Lost Customers**"
   ]
  },
  {
   "cell_type": "code",
   "execution_count": 28,
   "id": "9cbbf24c",
   "metadata": {},
   "outputs": [
    {
     "data": {
      "text/html": [
       "<div>\n",
       "<style scoped>\n",
       "    .dataframe tbody tr th:only-of-type {\n",
       "        vertical-align: middle;\n",
       "    }\n",
       "\n",
       "    .dataframe tbody tr th {\n",
       "        vertical-align: top;\n",
       "    }\n",
       "\n",
       "    .dataframe thead th {\n",
       "        text-align: right;\n",
       "    }\n",
       "</style>\n",
       "<table border=\"1\" class=\"dataframe\">\n",
       "  <thead>\n",
       "    <tr style=\"text-align: right;\">\n",
       "      <th></th>\n",
       "      <th>Customers</th>\n",
       "    </tr>\n",
       "  </thead>\n",
       "  <tbody>\n",
       "    <tr>\n",
       "      <th>lost_2016</th>\n",
       "      <td>171710</td>\n",
       "    </tr>\n",
       "    <tr>\n",
       "      <th>lost_2017</th>\n",
       "      <td>183687</td>\n",
       "    </tr>\n",
       "  </tbody>\n",
       "</table>\n",
       "</div>"
      ],
      "text/plain": [
       "           Customers\n",
       "lost_2016     171710\n",
       "lost_2017     183687"
      ]
     },
     "execution_count": 28,
     "metadata": {},
     "output_type": "execute_result"
    }
   ],
   "source": [
    "lost_cust = customer_year_pivot[[\"lost_rev_2016\", \"lost_rev_2017\"]].count().to_frame(\"Customers\")\n",
    "lost_cust.index = [\"lost_2016\", \"lost_2017\"]\n",
    "lost_cust"
   ]
  },
  {
   "cell_type": "markdown",
   "id": "745eeb94",
   "metadata": {},
   "source": [
    "We show lost customers in millions below:"
   ]
  },
  {
   "cell_type": "code",
   "execution_count": 29,
   "id": "5e61de43",
   "metadata": {},
   "outputs": [
    {
     "data": {
      "text/html": [
       "<div>\n",
       "<style scoped>\n",
       "    .dataframe tbody tr th:only-of-type {\n",
       "        vertical-align: middle;\n",
       "    }\n",
       "\n",
       "    .dataframe tbody tr th {\n",
       "        vertical-align: top;\n",
       "    }\n",
       "\n",
       "    .dataframe thead th {\n",
       "        text-align: right;\n",
       "    }\n",
       "</style>\n",
       "<table border=\"1\" class=\"dataframe\">\n",
       "  <thead>\n",
       "    <tr style=\"text-align: right;\">\n",
       "      <th></th>\n",
       "      <th>Lost Customers (in millions)</th>\n",
       "    </tr>\n",
       "  </thead>\n",
       "  <tbody>\n",
       "    <tr>\n",
       "      <th>lost_2016</th>\n",
       "      <td>0.17</td>\n",
       "    </tr>\n",
       "    <tr>\n",
       "      <th>lost_2017</th>\n",
       "      <td>0.18</td>\n",
       "    </tr>\n",
       "  </tbody>\n",
       "</table>\n",
       "</div>"
      ],
      "text/plain": [
       "           Lost Customers (in millions)\n",
       "lost_2016                          0.17\n",
       "lost_2017                          0.18"
      ]
     },
     "execution_count": 29,
     "metadata": {},
     "output_type": "execute_result"
    }
   ],
   "source": [
    "lost_cust_M = round(lost_cust/1e6, 2)\n",
    "lost_cust_M.columns = [\"Lost Customers (in millions)\"]\n",
    "lost_cust_M"
   ]
  },
  {
   "cell_type": "markdown",
   "id": "38c7865a",
   "metadata": {},
   "source": [
    "**11. Metrics**"
   ]
  },
  {
   "cell_type": "markdown",
   "id": "d980eae3",
   "metadata": {},
   "source": [
    "We look at the following metrics for our analysis:\n",
    "\n",
    "* Total Yearly Revenue\n",
    "* Total Customers\n",
    "* YoY Attrition Rate\n",
    "\n",
    "        Attrition Rate = Customers Lost Current Year/((Total Customer Previous Year + Total Customer Current Year)/2) * 100\n",
    "        \n",
    "\n",
    "* YoY Customer Growth Rate\n",
    "\n",
    "        Customer Growth Rate = New Customers Added/Total Customer Previous Year * 100    \n",
    "    \n",
    "\n",
    "* YoY Existing Customer Revenue Churn Rate\n",
    "\n",
    "        Existing Customer Revenue Churn Rate = (Total Revenue Previous Year Existing Customer-Total Revenue Current Year Existing Customer)/Total Revenue Previous Year Existing Customer * 100\n",
    "    \n",
    "\n",
    "* YoY New Customer Revenue Growth Rate\n",
    "\n",
    "        New Customer Revenue Growth Rate = (Total Revenue Current Year New Customer)/Total Revenue Current Year New Customer * 100\n",
    "        \n"
   ]
  },
  {
   "cell_type": "markdown",
   "id": "fe048f5f",
   "metadata": {},
   "source": [
    "**Total Yearly Revenue**"
   ]
  },
  {
   "cell_type": "code",
   "execution_count": 30,
   "id": "b5400af8",
   "metadata": {},
   "outputs": [
    {
     "data": {
      "text/html": [
       "<div>\n",
       "<style scoped>\n",
       "    .dataframe tbody tr th:only-of-type {\n",
       "        vertical-align: middle;\n",
       "    }\n",
       "\n",
       "    .dataframe tbody tr th {\n",
       "        vertical-align: top;\n",
       "    }\n",
       "\n",
       "    .dataframe thead th {\n",
       "        text-align: right;\n",
       "    }\n",
       "</style>\n",
       "<table border=\"1\" class=\"dataframe\">\n",
       "  <thead>\n",
       "    <tr style=\"text-align: right;\">\n",
       "      <th></th>\n",
       "      <th>Total Revenue</th>\n",
       "    </tr>\n",
       "    <tr>\n",
       "      <th>year</th>\n",
       "      <th></th>\n",
       "    </tr>\n",
       "  </thead>\n",
       "  <tbody>\n",
       "    <tr>\n",
       "      <th>2016</th>\n",
       "      <td>25730943.59</td>\n",
       "    </tr>\n",
       "    <tr>\n",
       "      <th>2017</th>\n",
       "      <td>31417495.03</td>\n",
       "    </tr>\n",
       "  </tbody>\n",
       "</table>\n",
       "</div>"
      ],
      "text/plain": [
       "      Total Revenue\n",
       "year               \n",
       "2016    25730943.59\n",
       "2017    31417495.03"
      ]
     },
     "execution_count": 30,
     "metadata": {},
     "output_type": "execute_result"
    }
   ],
   "source": [
    "total_rev = total_revenue[1:]\n",
    "total_rev.columns = [\"Total Revenue\"]\n",
    "total_rev"
   ]
  },
  {
   "cell_type": "markdown",
   "id": "96f3e602",
   "metadata": {},
   "source": [
    "**Total Customers**"
   ]
  },
  {
   "cell_type": "code",
   "execution_count": 31,
   "id": "6734756b",
   "metadata": {
    "scrolled": true
   },
   "outputs": [
    {
     "data": {
      "text/html": [
       "<div>\n",
       "<style scoped>\n",
       "    .dataframe tbody tr th:only-of-type {\n",
       "        vertical-align: middle;\n",
       "    }\n",
       "\n",
       "    .dataframe tbody tr th {\n",
       "        vertical-align: top;\n",
       "    }\n",
       "\n",
       "    .dataframe thead th {\n",
       "        text-align: right;\n",
       "    }\n",
       "</style>\n",
       "<table border=\"1\" class=\"dataframe\">\n",
       "  <thead>\n",
       "    <tr style=\"text-align: right;\">\n",
       "      <th></th>\n",
       "      <th>Total Customers</th>\n",
       "    </tr>\n",
       "  </thead>\n",
       "  <tbody>\n",
       "    <tr>\n",
       "      <th>2015</th>\n",
       "      <td>231294</td>\n",
       "    </tr>\n",
       "    <tr>\n",
       "      <th>2016</th>\n",
       "      <td>204646</td>\n",
       "    </tr>\n",
       "    <tr>\n",
       "      <th>2017</th>\n",
       "      <td>249987</td>\n",
       "    </tr>\n",
       "  </tbody>\n",
       "</table>\n",
       "</div>"
      ],
      "text/plain": [
       "      Total Customers\n",
       "2015           231294\n",
       "2016           204646\n",
       "2017           249987"
      ]
     },
     "execution_count": 31,
     "metadata": {},
     "output_type": "execute_result"
    }
   ],
   "source": [
    "total_cust = customer_year_pivot[[2015, 2016, 2017]].count().to_frame(name=\"Total Customers\")\n",
    "total_cust"
   ]
  },
  {
   "cell_type": "markdown",
   "id": "819b9fe9",
   "metadata": {},
   "source": [
    "**YoY Attrition Rate**"
   ]
  },
  {
   "cell_type": "code",
   "execution_count": 32,
   "id": "b1f04104",
   "metadata": {},
   "outputs": [
    {
     "data": {
      "text/html": [
       "<div>\n",
       "<style scoped>\n",
       "    .dataframe tbody tr th:only-of-type {\n",
       "        vertical-align: middle;\n",
       "    }\n",
       "\n",
       "    .dataframe tbody tr th {\n",
       "        vertical-align: top;\n",
       "    }\n",
       "\n",
       "    .dataframe thead th {\n",
       "        text-align: right;\n",
       "    }\n",
       "</style>\n",
       "<table border=\"1\" class=\"dataframe\">\n",
       "  <thead>\n",
       "    <tr style=\"text-align: right;\">\n",
       "      <th></th>\n",
       "      <th>Attrition Rate</th>\n",
       "    </tr>\n",
       "  </thead>\n",
       "  <tbody>\n",
       "    <tr>\n",
       "      <th>2016</th>\n",
       "      <td>78.78</td>\n",
       "    </tr>\n",
       "    <tr>\n",
       "      <th>2017</th>\n",
       "      <td>80.81</td>\n",
       "    </tr>\n",
       "  </tbody>\n",
       "</table>\n",
       "</div>"
      ],
      "text/plain": [
       "      Attrition Rate\n",
       "2016           78.78\n",
       "2017           80.81"
      ]
     },
     "execution_count": 32,
     "metadata": {},
     "output_type": "execute_result"
    }
   ],
   "source": [
    "attrition_rate = pd.DataFrame(round((lost_cust/((total_prior_cust.values + total_curr_cust.values)/2)) * 100, 2))\n",
    "attrition_rate.columns = [\"Attrition Rate\"]\n",
    "attrition_rate.index = [2016, 2017]\n",
    "attrition_rate"
   ]
  },
  {
   "cell_type": "markdown",
   "id": "65d271bb",
   "metadata": {},
   "source": [
    "**YoY Customer Growth Rate**"
   ]
  },
  {
   "cell_type": "code",
   "execution_count": 33,
   "id": "a4714182",
   "metadata": {},
   "outputs": [
    {
     "data": {
      "text/html": [
       "<div>\n",
       "<style scoped>\n",
       "    .dataframe tbody tr th:only-of-type {\n",
       "        vertical-align: middle;\n",
       "    }\n",
       "\n",
       "    .dataframe tbody tr th {\n",
       "        vertical-align: top;\n",
       "    }\n",
       "\n",
       "    .dataframe thead th {\n",
       "        text-align: right;\n",
       "    }\n",
       "</style>\n",
       "<table border=\"1\" class=\"dataframe\">\n",
       "  <thead>\n",
       "    <tr style=\"text-align: right;\">\n",
       "      <th></th>\n",
       "      <th>Customer Growth Rate</th>\n",
       "    </tr>\n",
       "  </thead>\n",
       "  <tbody>\n",
       "    <tr>\n",
       "      <th>2016</th>\n",
       "      <td>62.72</td>\n",
       "    </tr>\n",
       "    <tr>\n",
       "      <th>2017</th>\n",
       "      <td>111.91</td>\n",
       "    </tr>\n",
       "  </tbody>\n",
       "</table>\n",
       "</div>"
      ],
      "text/plain": [
       "      Customer Growth Rate\n",
       "2016                 62.72\n",
       "2017                111.91"
      ]
     },
     "execution_count": 33,
     "metadata": {},
     "output_type": "execute_result"
    }
   ],
   "source": [
    "cust_growth_rate = round(total_new_customers[1:]/total_prior_cust.values * 100,2)\n",
    "cust_growth_rate.columns = [\"Customer Growth Rate\"]\n",
    "cust_growth_rate"
   ]
  },
  {
   "cell_type": "markdown",
   "id": "d77dada0",
   "metadata": {},
   "source": [
    "**YoY Existing Customer Revenue Churn Rate**"
   ]
  },
  {
   "cell_type": "code",
   "execution_count": 34,
   "id": "f869607c",
   "metadata": {},
   "outputs": [
    {
     "data": {
      "text/html": [
       "<div>\n",
       "<style scoped>\n",
       "    .dataframe tbody tr th:only-of-type {\n",
       "        vertical-align: middle;\n",
       "    }\n",
       "\n",
       "    .dataframe tbody tr th {\n",
       "        vertical-align: top;\n",
       "    }\n",
       "\n",
       "    .dataframe thead th {\n",
       "        text-align: right;\n",
       "    }\n",
       "</style>\n",
       "<table border=\"1\" class=\"dataframe\">\n",
       "  <thead>\n",
       "    <tr style=\"text-align: right;\">\n",
       "      <th></th>\n",
       "      <th>Lost Revenue</th>\n",
       "    </tr>\n",
       "  </thead>\n",
       "  <tbody>\n",
       "    <tr>\n",
       "      <th>2016</th>\n",
       "      <td>21571632.07</td>\n",
       "    </tr>\n",
       "    <tr>\n",
       "      <th>2017</th>\n",
       "      <td>23110294.94</td>\n",
       "    </tr>\n",
       "  </tbody>\n",
       "</table>\n",
       "</div>"
      ],
      "text/plain": [
       "      Lost Revenue\n",
       "2016   21571632.07\n",
       "2017   23110294.94"
      ]
     },
     "execution_count": 34,
     "metadata": {},
     "output_type": "execute_result"
    }
   ],
   "source": [
    "attrition_reve_loss = attr_rev_lost\n",
    "attrition_reve_loss.columns = [\"Lost Revenue\"]\n",
    "attrition_reve_loss.index = [2016, 2017]\n",
    "attrition_reve_loss"
   ]
  },
  {
   "cell_type": "code",
   "execution_count": 35,
   "id": "b5f004bf",
   "metadata": {},
   "outputs": [
    {
     "data": {
      "text/html": [
       "<div>\n",
       "<style scoped>\n",
       "    .dataframe tbody tr th:only-of-type {\n",
       "        vertical-align: middle;\n",
       "    }\n",
       "\n",
       "    .dataframe tbody tr th {\n",
       "        vertical-align: top;\n",
       "    }\n",
       "\n",
       "    .dataframe thead th {\n",
       "        text-align: right;\n",
       "    }\n",
       "</style>\n",
       "<table border=\"1\" class=\"dataframe\">\n",
       "  <thead>\n",
       "    <tr style=\"text-align: right;\">\n",
       "      <th></th>\n",
       "      <th>Revenue</th>\n",
       "    </tr>\n",
       "    <tr>\n",
       "      <th>year</th>\n",
       "      <th></th>\n",
       "    </tr>\n",
       "  </thead>\n",
       "  <tbody>\n",
       "    <tr>\n",
       "      <th>2015</th>\n",
       "      <td>29036749.19</td>\n",
       "    </tr>\n",
       "    <tr>\n",
       "      <th>2016</th>\n",
       "      <td>25730943.59</td>\n",
       "    </tr>\n",
       "    <tr>\n",
       "      <th>2017</th>\n",
       "      <td>31417495.03</td>\n",
       "    </tr>\n",
       "  </tbody>\n",
       "</table>\n",
       "</div>"
      ],
      "text/plain": [
       "          Revenue\n",
       "year             \n",
       "2015  29036749.19\n",
       "2016  25730943.59\n",
       "2017  31417495.03"
      ]
     },
     "execution_count": 35,
     "metadata": {},
     "output_type": "execute_result"
    }
   ],
   "source": [
    "total_revenue.columns = [\"Revenue\"]\n",
    "total_revenue"
   ]
  },
  {
   "cell_type": "code",
   "execution_count": 36,
   "id": "5a16d6f7",
   "metadata": {},
   "outputs": [
    {
     "data": {
      "text/html": [
       "<div>\n",
       "<style scoped>\n",
       "    .dataframe tbody tr th:only-of-type {\n",
       "        vertical-align: middle;\n",
       "    }\n",
       "\n",
       "    .dataframe tbody tr th {\n",
       "        vertical-align: top;\n",
       "    }\n",
       "\n",
       "    .dataframe thead th {\n",
       "        text-align: right;\n",
       "    }\n",
       "</style>\n",
       "<table border=\"1\" class=\"dataframe\">\n",
       "  <thead>\n",
       "    <tr style=\"text-align: right;\">\n",
       "      <th></th>\n",
       "      <th>Revenue Churn</th>\n",
       "    </tr>\n",
       "  </thead>\n",
       "  <tbody>\n",
       "    <tr>\n",
       "      <th>2016</th>\n",
       "      <td>74.29</td>\n",
       "    </tr>\n",
       "    <tr>\n",
       "      <th>2017</th>\n",
       "      <td>89.82</td>\n",
       "    </tr>\n",
       "  </tbody>\n",
       "</table>\n",
       "</div>"
      ],
      "text/plain": [
       "      Revenue Churn\n",
       "2016          74.29\n",
       "2017          89.82"
      ]
     },
     "execution_count": 36,
     "metadata": {},
     "output_type": "execute_result"
    }
   ],
   "source": [
    "existing_rev_churn = round(attrition_reve_loss/total_revenue.values[:2] * 100, 2)\n",
    "existing_rev_churn.columns = [\"Revenue Churn\"]\n",
    "existing_rev_churn"
   ]
  },
  {
   "cell_type": "markdown",
   "id": "bda526a3",
   "metadata": {},
   "source": [
    "**YoY New Customer Revenue Growth Rate**"
   ]
  },
  {
   "cell_type": "code",
   "execution_count": 37,
   "id": "28dc3dd7",
   "metadata": {},
   "outputs": [
    {
     "data": {
      "text/html": [
       "<div>\n",
       "<style scoped>\n",
       "    .dataframe tbody tr th:only-of-type {\n",
       "        vertical-align: middle;\n",
       "    }\n",
       "\n",
       "    .dataframe tbody tr th {\n",
       "        vertical-align: top;\n",
       "    }\n",
       "\n",
       "    .dataframe thead th {\n",
       "        text-align: right;\n",
       "    }\n",
       "</style>\n",
       "<table border=\"1\" class=\"dataframe\">\n",
       "  <thead>\n",
       "    <tr style=\"text-align: right;\">\n",
       "      <th></th>\n",
       "      <th>Revenue Growth Rate</th>\n",
       "    </tr>\n",
       "  </thead>\n",
       "  <tbody>\n",
       "    <tr>\n",
       "      <th>2016</th>\n",
       "      <td>70.91</td>\n",
       "    </tr>\n",
       "    <tr>\n",
       "      <th>2017</th>\n",
       "      <td>91.59</td>\n",
       "    </tr>\n",
       "  </tbody>\n",
       "</table>\n",
       "</div>"
      ],
      "text/plain": [
       "      Revenue Growth Rate\n",
       "2016                70.91\n",
       "2017                91.59"
      ]
     },
     "execution_count": 37,
     "metadata": {},
     "output_type": "execute_result"
    }
   ],
   "source": [
    "revenue_growth = round(new_cust_rev[1:]/total_revenue[1:].values * 100, 2)\n",
    "revenue_growth.columns = [\"Revenue Growth Rate\"]\n",
    "revenue_growth"
   ]
  },
  {
   "cell_type": "markdown",
   "id": "f5a19237",
   "metadata": {},
   "source": [
    "**12. Visualizations**"
   ]
  },
  {
   "cell_type": "markdown",
   "id": "a2fcf8ca",
   "metadata": {},
   "source": [
    "**Yearly Revenue and #Customers**"
   ]
  },
  {
   "cell_type": "code",
   "execution_count": 38,
   "id": "b4b7e48a",
   "metadata": {},
   "outputs": [
    {
     "data": {
      "text/plain": [
       "<matplotlib.legend.Legend at 0x7ffdccf955b0>"
      ]
     },
     "execution_count": 38,
     "metadata": {},
     "output_type": "execute_result"
    },
    {
     "data": {
      "image/png": "[encoded data removed]",
      "text/plain": [
       "<Figure size 800x400 with 2 Axes>"
      ]
     },
     "metadata": {
      "needs_background": "light"
     },
     "output_type": "display_data"
    }
   ],
   "source": [
    "total_revenue_M = total_revenue/1e6\n",
    "total_cust_1e3 = total_cust/1e3\n",
    "\n",
    "fig, ax = plt.subplots(figsize=(8, 4), dpi=100)\n",
    "\n",
    "ax.plot(total_revenue_M, 'or--', label=\"Total Revenue\")\n",
    "ax.set_ylabel(\"Revenue ($M)\")\n",
    "\n",
    "ax2 = ax.twinx()\n",
    "\n",
    "ax2.plot(total_cust_1e3, '-..g', label=\"Total Customers\")\n",
    "ax2.set_ylabel('#Customers (,000)')\n",
    "\n",
    "plt.title('Yearly Revenue and #Customers')\n",
    "plt.xticks(total_revenue_M.index)\n",
    "plt.xlabel('Year')\n",
    "plt.legend()"
   ]
  },
  {
   "cell_type": "markdown",
   "id": "dc7aed4b",
   "metadata": {},
   "source": [
    "*The total revenue and number of customers are fluctuating by the same proportion each year*\n",
    "\n",
    "Thus, it may seem that any revenue lost/gained is due to corresponding customers lost/gained. To evaluate this, we look rate of attrition and new customer growth, and revenue fluctuations due to each"
   ]
  },
  {
   "cell_type": "markdown",
   "id": "d5278026",
   "metadata": {},
   "source": [
    "**Loss/Gain of Customers (Attrition Rate vs New Customer Growth Rate)**"
   ]
  },
  {
   "cell_type": "code",
   "execution_count": 39,
   "id": "ec0c200f",
   "metadata": {},
   "outputs": [
    {
     "data": {
      "text/plain": [
       "<matplotlib.legend.Legend at 0x7ffdd850f850>"
      ]
     },
     "execution_count": 39,
     "metadata": {},
     "output_type": "execute_result"
    },
    {
     "data": {
      "image/png": "[encoded data removed]",
      "text/plain": [
       "<Figure size 800x400 with 1 Axes>"
      ]
     },
     "metadata": {
      "needs_background": "light"
     },
     "output_type": "display_data"
    }
   ],
   "source": [
    "plt.figure(figsize=(8, 4), dpi=100)\n",
    "\n",
    "attrition_rate[\"Attrition Rate\"].plot(label=\"Attrition Rate\")\n",
    "cust_growth_rate[\"Customer Growth Rate\"].plot(label=\"New Customer Growth Rate\")\n",
    "\n",
    "plt.title('Attrition Rate vs New Customer Growth Rate')\n",
    "plt.xlabel('Year')\n",
    "plt.ylabel('Percentage')\n",
    "plt.xticks(attrition_rate.index)\n",
    "plt.legend()"
   ]
  },
  {
   "cell_type": "markdown",
   "id": "7d2ff77b",
   "metadata": {},
   "source": [
    "*Thus, we see that we have lost customers are fairly similar rates in 2016 and 2017, but have gained significantly more customers in 2017*"
   ]
  },
  {
   "cell_type": "markdown",
   "id": "b4a98ee7",
   "metadata": {},
   "source": [
    "**Revenue Fluctuations in Existing vs New Customers**"
   ]
  },
  {
   "cell_type": "code",
   "execution_count": 40,
   "id": "e773b0e9",
   "metadata": {},
   "outputs": [
    {
     "data": {
      "text/plain": [
       "<matplotlib.legend.Legend at 0x7ffdb858caf0>"
      ]
     },
     "execution_count": 40,
     "metadata": {},
     "output_type": "execute_result"
    },
    {
     "data": {
      "image/png": "[encoded data removed]",
      "text/plain": [
       "<Figure size 800x400 with 1 Axes>"
      ]
     },
     "metadata": {
      "needs_background": "light"
     },
     "output_type": "display_data"
    }
   ],
   "source": [
    "plt.figure(figsize=(8, 4), dpi=100)\n",
    "\n",
    "existing_rev_churn[\"Revenue Churn\"].plot(label='Existing Customer Revenue Churn Rate')\n",
    "revenue_growth['Revenue Growth Rate'].plot(label='New Customer Revenue Growth Rate')\n",
    "\n",
    "plt.title('Revenue Fluctuations in Existing vs New Customers')\n",
    "plt.xlabel('Year')\n",
    "plt.ylabel('Percentage')\n",
    "plt.xticks(existing_rev_churn.index)\n",
    "plt.legend()"
   ]
  },
  {
   "cell_type": "markdown",
   "id": "b95ae45b",
   "metadata": {},
   "source": [
    "*Thus, we see that the revenue fluctuations are similar between existing and new customers over the years, but more revenue is generated from existing customers in 2016 than 2017*"
   ]
  },
  {
   "cell_type": "markdown",
   "id": "f1255bdb",
   "metadata": {},
   "source": [
    "**13. Conclusion**"
   ]
  },
  {
   "cell_type": "markdown",
   "id": "755348fb",
   "metadata": {},
   "source": [
    "    The total revenue and number of customers are fluctuating by the same proportion each year. \n",
    "\n",
    "    But the cause for loss of revenue in 2016 cannot be attributed solely to attrition. It is also because the revenue generated from new customers is less than that lost from attrition.\n",
    "\n",
    "    We see some improvement in 2017. There are more new customers, and more revenue is generated from them, although the attrition rate is still the same. Hence, we see an overall increase in revenue in 2017."
   ]
  },
  {
   "cell_type": "code",
   "execution_count": null,
   "id": "393339a9",
   "metadata": {},
   "outputs": [],
   "source": []
  }
 ],
 "metadata": {
  "kernelspec": {
   "display_name": "Python 3",
   "language": "python",
   "name": "python3"
  },
  "language_info": {
   "codemirror_mode": {
    "name": "ipython",
    "version": 3
   },
   "file_extension": ".py",
   "mimetype": "text/x-python",
   "name": "python",
   "nbconvert_exporter": "python",
   "pygments_lexer": "ipython3",
   "version": "3.8.8"
  }
 },
 "nbformat": 4,
 "nbformat_minor": 5
}
